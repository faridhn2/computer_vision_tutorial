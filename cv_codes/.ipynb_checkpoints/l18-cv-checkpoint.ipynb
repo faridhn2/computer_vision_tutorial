{
 "cells": [
  {
   "cell_type": "markdown",
   "metadata": {},
   "source": [
    "## Convolutions and Blurring"
   ]
  },
  {
   "cell_type": "code",
   "execution_count": 1,
   "metadata": {},
   "outputs": [
    {
     "name": "stdout",
     "output_type": "stream",
     "text": [
      "(270, 480, 3)\n",
      "[[0.11111111 0.11111111 0.11111111]\n",
      " [0.11111111 0.11111111 0.11111111]\n",
      " [0.11111111 0.11111111 0.11111111]]\n",
      "(270, 480, 3)\n",
      "(270, 480, 3)\n"
     ]
    }
   ],
   "source": [
    "import cv2\n",
    "import numpy as np\n",
    "\n",
    "image = cv2.imread(r'car_small2.jpg')\n",
    "cv2.imshow('Original Image', image)\n",
    "cv2.waitKey(0)\n",
    "\n",
    "print(image.shape)\n",
    "kernel_3x3 = np.ones((3, 3), np.float32) / 9\n",
    "print(kernel_3x3)\n",
    "\n",
    "blurred = cv2.filter2D(image, -1, kernel_3x3)\n",
    "print(blurred.shape)\n",
    "\n",
    "cv2.imshow('3x3 Kernel Blurring', blurred)\n",
    "cv2.waitKey(0)\n",
    "\n",
    "\n",
    "kernel_7x7 = np.ones((7, 7), np.float32) / 49\n",
    "\n",
    "blurred2 = cv2.filter2D(image, -1, kernel_7x7)\n",
    "print(blurred2.shape)\n",
    "\n",
    "cv2.imshow('7x7 Kernel Blurring', blurred2)\n",
    "cv2.waitKey(0)\n",
    "\n",
    "cv2.destroyAllWindows()"
   ]
  },
  {
   "cell_type": "code",
   "execution_count": 2,
   "metadata": {},
   "outputs": [
    {
     "data": {
      "text/plain": [
       "55.83183641975309"
      ]
     },
     "execution_count": 2,
     "metadata": {},
     "output_type": "execute_result"
    }
   ],
   "source": [
    "image.mean()"
   ]
  },
  {
   "cell_type": "code",
   "execution_count": 3,
   "metadata": {},
   "outputs": [
    {
     "data": {
      "text/plain": [
       "55.82889660493827"
      ]
     },
     "execution_count": 3,
     "metadata": {},
     "output_type": "execute_result"
    }
   ],
   "source": [
    "blurred.mean()"
   ]
  },
  {
   "cell_type": "code",
   "execution_count": 4,
   "metadata": {},
   "outputs": [
    {
     "name": "stdout",
     "output_type": "stream",
     "text": [
      "[[1. 1. 1.]\n",
      " [1. 1. 1.]\n",
      " [1. 1. 1.]]\n"
     ]
    },
    {
     "data": {
      "text/plain": [
       "174.83476080246913"
      ]
     },
     "execution_count": 4,
     "metadata": {},
     "output_type": "execute_result"
    }
   ],
   "source": [
    "kernel_3x3 = np.ones((3, 3), np.float32)\n",
    "print(kernel_3x3)\n",
    "\n",
    "blurred = cv2.filter2D(image, -1, kernel_3x3)\n",
    "blurred.mean()"
   ]
  },
  {
   "cell_type": "code",
   "execution_count": 5,
   "metadata": {},
   "outputs": [
    {
     "data": {
      "text/plain": [
       "255"
      ]
     },
     "execution_count": 5,
     "metadata": {},
     "output_type": "execute_result"
    }
   ],
   "source": [
    "blurred.max()"
   ]
  },
  {
   "cell_type": "code",
   "execution_count": 6,
   "metadata": {},
   "outputs": [
    {
     "data": {
      "text/plain": [
       "32"
      ]
     },
     "execution_count": 6,
     "metadata": {},
     "output_type": "execute_result"
    }
   ],
   "source": [
    "\n",
    "cv2.imshow('3x3 Kernel Blurring', blurred)\n",
    "cv2.waitKey(0)\n"
   ]
  },
  {
   "cell_type": "markdown",
   "metadata": {},
   "source": [
    "### Other commonly used blurring methods in OpenCV"
   ]
  },
  {
   "cell_type": "code",
   "execution_count": 9,
   "metadata": {},
   "outputs": [],
   "source": [
    "import cv2\n",
    "import numpy as np\n",
    "\n",
    "image = cv2.imread(r'C:\\Users\\Farid\\Desktop\\steve-jobs-1.jpg')\n",
    "blur = cv2.blur(image, (5,5))\n",
    "cv2.imshow('orginal', image)\n",
    "\n",
    "cv2.imshow('Averaging', blur)\n",
    "cv2.imwrite('steve-jobs-blur.jpg',blur)\n",
    "cv2.waitKey(0)\n",
    "\n",
    "\n",
    "Gaussian = cv2.GaussianBlur(image, (7,7), 0)\n",
    "cv2.imshow('Gaussian Blurring', Gaussian)\n",
    "cv2.waitKey(0)\n",
    "\n",
    "median = cv2.medianBlur(image, 11)\n",
    "cv2.imshow('Median Blurring', median)\n",
    "cv2.waitKey(0)\n",
    "\n",
    "\n",
    "bilateral = cv2.bilateralFilter(image, 9, 75, 75)\n",
    "cv2.imshow('Bilateral Blurring', bilateral)\n",
    "cv2.waitKey(0)\n",
    "cv2.destroyAllWindows()"
   ]
  },
  {
   "cell_type": "code",
   "execution_count": 14,
   "metadata": {},
   "outputs": [
    {
     "data": {
      "text/plain": [
       "array([[ 87,  89,  91,  93,  95,  97, 100, 103, 105, 106, 108, 109, 110,\n",
       "        111, 113, 117, 121, 123, 124, 124],\n",
       "       [ 86,  88,  91,  93,  95,  97, 100, 103, 105, 106, 107, 108, 109,\n",
       "        110, 112, 115, 120, 123, 123, 124],\n",
       "       [ 86,  88,  90,  92,  94,  97, 100, 103, 105, 106, 107, 108, 109,\n",
       "        110, 111, 114, 119, 122, 123, 124],\n",
       "       [ 86,  88,  89,  91,  93,  95,  99, 102, 105, 106, 107, 108, 109,\n",
       "        109, 111, 113, 117, 121, 123, 124],\n",
       "       [ 85,  87,  88,  90,  91,  94,  98, 101, 103, 105, 107, 107, 109,\n",
       "        109, 110, 112, 116, 119, 123, 124],\n",
       "       [ 84,  86,  87,  89,  90,  92,  95,  99, 102, 105, 106, 107, 108,\n",
       "        109, 110, 112, 115, 119, 123, 124],\n",
       "       [ 82,  84,  86,  87,  89,  91,  94,  98, 101, 103, 105, 107, 108,\n",
       "        109, 110, 112, 114, 118, 122, 123],\n",
       "       [ 82,  82,  84,  86,  88,  90,  92,  95, 100, 102, 105, 106, 107,\n",
       "        108, 110, 112, 113, 117, 121, 123],\n",
       "       [ 81,  81,  82,  84,  86,  88,  91,  95,  98, 101, 103, 105, 107,\n",
       "        108, 109, 110, 112, 117, 119, 123],\n",
       "       [ 80,  81,  81,  82,  84,  87,  90,  93,  97,  99, 102, 105, 106,\n",
       "        107, 108, 109, 112, 116, 119, 123],\n",
       "       [ 78,  79,  79,  81,  84,  86,  89,  92,  95,  97, 100, 102, 105,\n",
       "        107, 108, 109, 112, 116, 119, 123],\n",
       "       [ 77,  77,  79,  81,  83,  85,  88,  90,  92,  95,  97, 100, 102,\n",
       "        106, 107, 109, 112, 116, 119, 123],\n",
       "       [ 77,  77,  77,  81,  82,  84,  86,  88,  90,  92,  95,  97, 100,\n",
       "        102, 107, 108, 112, 115, 118, 122],\n",
       "       [ 76,  76,  77,  79,  82,  84,  85,  87,  88,  90,  92,  95,  97,\n",
       "        101, 104, 107, 112, 115, 118, 121],\n",
       "       [ 76,  76,  76,  79,  81,  82,  84,  85,  87,  88,  91,  93,  95,\n",
       "         99, 102, 107, 109, 113, 118, 120],\n",
       "       [ 75,  75,  76,  78,  81,  82,  84,  85,  86,  88,  89,  92,  94,\n",
       "         97, 100, 104, 108, 112, 116, 119],\n",
       "       [ 74,  74,  75,  77,  80,  82,  84,  85,  86,  87,  88,  91,  93,\n",
       "         95,  99, 102, 106, 109, 115, 118],\n",
       "       [ 73,  73,  74,  76,  79,  82,  83,  84,  85,  86,  88,  89,  92,\n",
       "         94,  97, 100, 103, 108, 112, 118],\n",
       "       [ 72,  72,  73,  75,  79,  81,  82,  84,  85,  86,  87,  88,  90,\n",
       "         93,  95,  99, 102, 106, 111, 116],\n",
       "       [ 72,  72,  73,  75,  78,  81,  82,  83,  84,  85,  86,  88,  89,\n",
       "         92,  94,  97, 102, 106, 110, 113]], dtype=uint8)"
      ]
     },
     "execution_count": 14,
     "metadata": {},
     "output_type": "execute_result"
    }
   ],
   "source": [
    "median[300:320,300:320,0]"
   ]
  },
  {
   "cell_type": "markdown",
   "metadata": {},
   "source": [
    "## Image De-noising - Non-Local Means Denoising"
   ]
  },
  {
   "cell_type": "code",
   "execution_count": 22,
   "metadata": {},
   "outputs": [],
   "source": [
    "import numpy as np\n",
    "import cv2\n",
    "\n",
    "image = cv2.imread(r'C:\\Users\\Farid\\Desktop\\flower_0.10_noisy.jpg')\n",
    "\n",
    "# Parameters, after None are - the filter strength 'h' (5-10 is a good range)\n",
    "# Next is hForColorComponents, set as same value as h again\n",
    "cv2.imshow('image', image)\n",
    "\n",
    "dst = cv2.fastNlMeansDenoisingColored(image, None,\n",
    "                                      20, 12, 7, 21)\n",
    "\n",
    "cv2.imshow('Fast Means Denoising', dst)\n",
    "cv2.waitKey(0)\n",
    "\n",
    "cv2.destroyAllWindows()"
   ]
  },
  {
   "cell_type": "markdown",
   "metadata": {},
   "source": [
    "**There are 4 variations of Non-Local Means Denoising:**\n",
    "\n",
    "- cv2.fastNlMeansDenoising() - works with a single grayscale images\n",
    "- cv2.fastNlMeansDenoisingColored() - works with a color image.\n",
    "- cv2.fastNlMeansDenoisingMulti() - works with image sequence captured in short period of time (grayscale images)\n",
    "- cv2.fastNlMeansDenoisingColoredMulti() - same as above, but for color images."
   ]
  },
  {
   "cell_type": "raw",
   "metadata": {},
   "source": [
    "half image blurring"
   ]
  },
  {
   "cell_type": "code",
   "execution_count": 34,
   "metadata": {},
   "outputs": [
    {
     "name": "stdout",
     "output_type": "stream",
     "text": [
      "735 980 3\n"
     ]
    }
   ],
   "source": [
    "import cv2\n",
    "import numpy as np\n",
    "\n",
    "image = cv2.imread(r'C:\\Users\\Farid\\Desktop\\steve-jobs-1.jpg')\n",
    "h , w , c = image.shape\n",
    "print(h, w , c)\n",
    "# image[:int(h/2),:int(w/2),:]\n",
    "blur = image[int(h/2):,:,:] \n",
    "blur = cv2.blur(blur,(25,25))\n",
    "image[int(h/2):,:,:] =blur\n",
    "# cv2.imwrite('steve-jobs-blur2.jpg',blur)\n",
    "cv2.imshow('Averaging', image)\n",
    "\n",
    "cv2.waitKey(0)\n",
    "\n",
    "cv2.destroyAllWindows()"
   ]
  },
  {
   "cell_type": "code",
   "execution_count": null,
   "metadata": {},
   "outputs": [],
   "source": []
  },
  {
   "cell_type": "code",
   "execution_count": null,
   "metadata": {},
   "outputs": [],
   "source": []
  },
  {
   "cell_type": "code",
   "execution_count": 36,
   "metadata": {},
   "outputs": [
    {
     "name": "stdout",
     "output_type": "stream",
     "text": [
      "[[0 0 0 0 0 0 0 0 0 0 0 0 0 0 0 0 0 0 0 0 0 0 0 0 0 0 0 0 0 0]\n",
      " [0 0 0 0 0 0 0 0 0 0 0 0 0 0 0 0 0 0 0 0 0 0 0 0 0 0 0 0 0 0]\n",
      " [0 0 0 0 0 0 0 0 0 0 0 0 0 0 0 0 0 0 0 0 0 0 0 0 0 0 0 0 0 0]\n",
      " [0 0 0 0 0 0 0 0 0 0 0 0 0 0 0 0 0 0 0 0 0 0 0 0 0 0 0 0 0 0]\n",
      " [0 0 0 0 0 0 0 0 0 0 0 0 0 0 0 0 0 0 0 0 0 0 0 0 0 0 0 0 0 0]\n",
      " [0 0 0 0 0 0 0 0 0 0 0 0 0 0 0 0 0 0 0 0 0 0 0 0 0 0 0 0 0 0]\n",
      " [0 0 0 0 0 0 0 0 0 0 0 0 0 0 0 0 0 0 0 0 0 0 0 0 0 0 0 0 0 0]\n",
      " [0 0 0 0 0 0 0 0 0 0 0 0 0 0 0 0 0 0 0 0 0 0 0 0 0 0 0 0 0 0]\n",
      " [0 0 0 0 0 0 0 0 0 0 0 0 0 0 0 0 0 0 0 0 0 0 0 0 0 0 0 0 0 0]\n",
      " [0 0 0 0 0 0 0 0 0 0 0 0 0 0 0 0 0 0 0 0 0 0 0 0 0 0 0 0 0 0]\n",
      " [0 0 0 0 0 0 0 0 0 0 0 0 0 0 0 0 0 0 0 0 0 0 0 0 0 0 0 0 0 0]\n",
      " [0 0 0 0 0 0 0 0 0 0 0 0 0 0 0 0 0 0 0 0 0 0 0 0 0 0 0 0 0 0]\n",
      " [0 0 0 0 0 0 0 0 0 0 0 0 0 0 0 0 0 0 0 0 0 0 0 0 0 0 0 0 0 0]\n",
      " [0 0 0 0 0 0 0 0 0 0 0 0 0 0 0 0 0 0 0 0 0 0 0 0 0 0 0 0 0 0]\n",
      " [0 0 0 0 0 0 0 0 0 0 0 0 0 0 0 0 0 0 0 0 0 0 0 0 0 0 0 0 0 0]\n",
      " [0 0 0 0 0 0 0 0 0 0 0 0 0 0 0 0 0 0 0 0 0 0 0 0 0 0 0 0 0 0]\n",
      " [0 0 0 0 0 0 0 0 0 0 0 0 0 0 0 0 0 0 0 0 0 0 0 0 0 0 0 0 0 0]\n",
      " [0 0 0 0 0 0 0 0 0 0 0 0 0 0 0 0 0 0 0 0 0 0 0 0 0 0 0 0 0 0]\n",
      " [0 0 0 0 0 0 0 0 0 0 0 0 0 0 0 0 0 0 0 0 0 0 0 0 0 0 0 0 0 0]\n",
      " [0 0 0 0 0 0 0 0 0 0 0 0 0 0 0 0 0 0 0 0 0 0 0 0 0 0 0 0 0 0]\n",
      " [0 0 0 0 0 0 0 0 0 0 0 0 0 0 0 0 0 0 0 0 0 0 0 0 0 0 0 0 0 0]\n",
      " [0 0 0 0 0 0 0 0 0 0 0 0 0 0 0 0 0 0 0 0 0 0 0 0 0 0 0 0 0 0]\n",
      " [0 0 0 0 0 0 0 0 0 0 0 0 0 0 0 0 0 0 0 0 0 0 0 0 0 0 0 0 0 0]\n",
      " [0 0 0 0 0 0 0 0 0 0 0 0 0 0 0 0 0 0 0 0 0 0 0 0 0 0 0 0 0 0]\n",
      " [0 0 0 0 0 0 0 0 0 0 0 0 0 0 0 0 0 0 0 0 0 0 0 0 0 0 0 0 0 0]\n",
      " [0 0 0 0 0 0 0 0 0 0 0 0 0 0 0 0 0 0 0 0 0 0 0 0 0 0 0 0 0 0]\n",
      " [0 0 0 0 0 0 0 0 0 0 0 0 0 0 0 0 0 0 0 0 0 0 0 0 0 0 0 0 0 0]\n",
      " [0 0 0 0 0 0 0 0 0 0 0 0 0 0 0 0 0 0 0 0 0 0 0 0 0 0 0 0 0 0]\n",
      " [0 0 0 0 0 0 0 0 0 0 0 0 0 0 0 0 0 0 0 0 0 0 0 0 0 0 0 0 0 0]\n",
      " [0 0 0 0 0 0 0 0 0 0 0 0 0 0 0 0 0 0 0 0 0 0 0 0 0 0 0 0 0 0]]\n"
     ]
    }
   ],
   "source": [
    "import cv2\n",
    "import numpy as np\n",
    "ellipse = np.zeros((300, 300), np.uint8)\n",
    "cv2.ellipse(ellipse, (150, 150), (50, 150), \n",
    "            30, 0, 360, 255, 5)\n",
    "cv2.imshow(\"Ellipse\", ellipse)\n",
    "cv2.waitKey(0)\n",
    "mask = np.zeros((30, 30), np.uint8) \n",
    "# for i in range(30):\n",
    "#     mask[i,i] = 255\n",
    "# mask =np.eye((30))*255 \n",
    "print(mask) \n",
    "cv2.imshow(\"mask\", mask)\n",
    "cv2.waitKey(0)\n",
    "\n",
    "convolved = cv2.filter2D(ellipse, -1, mask)\n",
    "cv2.imshow('convolution', convolved)\n",
    "cv2.waitKey(0)\n",
    "\n",
    "cv2.destroyAllWindows()"
   ]
  },
  {
   "cell_type": "code",
   "execution_count": null,
   "metadata": {},
   "outputs": [],
   "source": []
  },
  {
   "cell_type": "code",
   "execution_count": null,
   "metadata": {},
   "outputs": [],
   "source": []
  },
  {
   "cell_type": "code",
   "execution_count": 37,
   "metadata": {},
   "outputs": [],
   "source": [
    "import cv2\n",
    "import numpy as np\n",
    "image = cv2.imread(r'C:\\Users\\Farid\\Desktop\\flower_0.10_noisy.jpg')\n",
    "cv2.imshow('Original', image)\n",
    "bilateral = cv2.bilateralFilter(image, 9, 75, 75)\n",
    "cv2.imshow('Bilateral Blurring', bilateral)\n",
    "cv2.waitKey(0)\n",
    "cv2.destroyAllWindows()"
   ]
  },
  {
   "cell_type": "raw",
   "metadata": {},
   "source": [
    "cv2.bilateralFilter(src, d, sigmaColor, sigmaSpace[, dst[, borderType]]\t) ->\tdst\n"
   ]
  }
 ],
 "metadata": {
  "kernelspec": {
   "display_name": "Python 3",
   "language": "python",
   "name": "python3"
  },
  "language_info": {
   "codemirror_mode": {
    "name": "ipython",
    "version": 3
   },
   "file_extension": ".py",
   "mimetype": "text/x-python",
   "name": "python",
   "nbconvert_exporter": "python",
   "pygments_lexer": "ipython3",
   "version": "3.8.5"
  }
 },
 "nbformat": 4,
 "nbformat_minor": 1
}
