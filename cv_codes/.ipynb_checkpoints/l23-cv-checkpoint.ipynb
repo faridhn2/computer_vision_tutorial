{
 "cells": [
  {
   "cell_type": "markdown",
   "metadata": {},
   "source": [
    "\n",
    "## Getting Perpsective Transform"
   ]
  },
  {
   "cell_type": "code",
   "execution_count": 32,
   "metadata": {},
   "outputs": [],
   "source": [
    "import cv2\n",
    "import numpy as np\n",
    "import matplotlib.pyplot as plt\n",
    "\n",
    "image = cv2.imread('scan.jpg')\n",
    "\n",
    "cv2.imshow('Original', image)\n",
    "cv2.waitKey(0)\n",
    "\n",
    "# Cordinates of the 4 corners of the original image\n",
    "points_A = np.float32([[320,15], [700,215],\n",
    "                       [85,610], [530,780]])\n",
    "\n",
    "# Cordinates of the 4 corners of the desired output\n",
    "# We use a ratio of an A4 Paper 1 : 1.41\n",
    "points_B = np.float32([[0,0], [420,0],\n",
    "                       [0,594], [420,594]])\n",
    " \n",
    "# Use the two sets of four points to compute \n",
    "# the Perspective Transformation matrix, M    \n",
    "M = cv2.getPerspectiveTransform(points_A, points_B)\n",
    "\n",
    "warped = cv2.warpPerspective(image, M, (420,594))\n",
    " \n",
    "cv2.imshow('warpPerspective',warped  )\n",
    "cv2.waitKey(0)\n",
    "cv2.destroyAllWindows()"
   ]
  },
  {
   "cell_type": "markdown",
   "metadata": {},
   "source": [
    "## In affine transforms you only need 3 coordiantes to obtain the correct transform"
   ]
  },
  {
   "cell_type": "code",
   "execution_count": 31,
   "metadata": {},
   "outputs": [
    {
     "name": "stdout",
     "output_type": "stream",
     "text": [
      "[60.  4.]\n",
      "[200.  86.]\n",
      "[260. 470.]\n"
     ]
    }
   ],
   "source": [
    "import cv2\n",
    "import numpy as np\n",
    "import matplotlib.pyplot as plt\n",
    "points_A = np.float32([[60,4], [200,86],\n",
    "                   [image.shape[0]-10, image.shape[1]-10]])\n",
    "\n",
    "image = cv2.imread('car_small2.jpg')\n",
    "for p  in points_A:\n",
    "    print(p)\n",
    "    cv2.circle(image,list(map(int,p))[::-1], 5, (0,255,0), -1)\n",
    "cv2.imshow('Original', image)\n",
    "cv2.waitKey(0)\n",
    "\n",
    "# Cordinates of the 4 corners of the original image\n",
    "\n",
    "# Cordinates of the 4 corners of the desired output\n",
    "# We use a ratio of an A4 Paper 1 : 1.41\n",
    "points_B = np.float32([[0,0], [100,50], \n",
    "                       [image.shape[0]-100,image.shape[1]-100]])\n",
    " \n",
    "# Use the two sets of four points to compute \n",
    "# the Perspective Transformation matrix, M    \n",
    "M = cv2.getAffineTransform(points_A, points_B)\n",
    "\n",
    "warped = cv2.warpAffine(image, M, image.shape[:2])\n",
    " \n",
    "cv2.imshow('warpAffine', warped)\n",
    "cv2.waitKey(0)\n",
    "cv2.destroyAllWindows()"
   ]
  },
  {
   "cell_type": "code",
   "execution_count": 29,
   "metadata": {},
   "outputs": [
    {
     "data": {
      "text/plain": [
       "(480, 270)"
      ]
     },
     "execution_count": 29,
     "metadata": {},
     "output_type": "execute_result"
    }
   ],
   "source": [
    "image.shape[:2:][::-1]"
   ]
  },
  {
   "cell_type": "code",
   "execution_count": null,
   "metadata": {},
   "outputs": [],
   "source": []
  }
 ],
 "metadata": {
  "kernelspec": {
   "display_name": "Python 3",
   "language": "python",
   "name": "python3"
  },
  "language_info": {
   "codemirror_mode": {
    "name": "ipython",
    "version": 3
   },
   "file_extension": ".py",
   "mimetype": "text/x-python",
   "name": "python",
   "nbconvert_exporter": "python",
   "pygments_lexer": "ipython3",
   "version": "3.8.5"
  }
 },
 "nbformat": 4,
 "nbformat_minor": 1
}
