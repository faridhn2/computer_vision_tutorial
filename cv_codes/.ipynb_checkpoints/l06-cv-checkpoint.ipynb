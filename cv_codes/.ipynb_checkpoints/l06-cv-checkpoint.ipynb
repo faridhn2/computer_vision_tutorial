{
 "cells": [
  {
   "cell_type": "markdown",
   "metadata": {},
   "source": [
    "https://pypi.org/project/opencv-python/"
   ]
  },
  {
   "cell_type": "code",
   "execution_count": null,
   "metadata": {},
   "outputs": [],
   "source": [
    "!pip install opencv-python"
   ]
  },
  {
   "cell_type": "markdown",
   "metadata": {},
   "source": [
    "https://pypi.org/project/opencv-contrib-python/\n"
   ]
  },
  {
   "cell_type": "markdown",
   "metadata": {},
   "source": [
    "https://github.com/opencv/opencv_contrib"
   ]
  },
  {
   "cell_type": "code",
   "execution_count": null,
   "metadata": {},
   "outputs": [],
   "source": [
    "!pip install opencv-contrib-python"
   ]
  },
  {
   "cell_type": "code",
   "execution_count": null,
   "metadata": {},
   "outputs": [],
   "source": [
    "!pip list\n"
   ]
  },
  {
   "cell_type": "code",
   "execution_count": 1,
   "metadata": {},
   "outputs": [],
   "source": [
    "import cv2"
   ]
  },
  {
   "cell_type": "code",
   "execution_count": 2,
   "metadata": {},
   "outputs": [
    {
     "data": {
      "text/plain": [
       "'4.5.2'"
      ]
     },
     "execution_count": 2,
     "metadata": {},
     "output_type": "execute_result"
    }
   ],
   "source": [
    "cv2.__version__"
   ]
  },
  {
   "cell_type": "code",
   "execution_count": 4,
   "metadata": {},
   "outputs": [
    {
     "data": {
      "text/plain": [
       "'D:\\\\computer_vision_tutorial\\\\cv_codes'"
      ]
     },
     "execution_count": 4,
     "metadata": {},
     "output_type": "execute_result"
    }
   ],
   "source": [
    "pwd"
   ]
  },
  {
   "cell_type": "code",
   "execution_count": 5,
   "metadata": {},
   "outputs": [],
   "source": [
    "import os"
   ]
  },
  {
   "cell_type": "code",
   "execution_count": 6,
   "metadata": {
    "collapsed": true
   },
   "outputs": [
    {
     "data": {
      "text/plain": [
       "['.ipynb_checkpoints',\n",
       " '4star.jpg',\n",
       " 'blobs.jpg',\n",
       " 'bottlecaps.jpg',\n",
       " 'bunchofshapes.jpg',\n",
       " 'candy.jpg',\n",
       " 'car1.jpg',\n",
       " 'car2.jpg',\n",
       " 'car3.jpg',\n",
       " 'cars.avi',\n",
       " 'cars0.jpg',\n",
       " 'cat1.PNG',\n",
       " 'chess.JPG',\n",
       " 'elephant.jpg',\n",
       " 'gradient.jpg',\n",
       " 'Haarcascades',\n",
       " 'hand.jpg',\n",
       " 'Harris Corners.jpg',\n",
       " 'house.jpg',\n",
       " 'input.jpg',\n",
       " 'jooje.jpg',\n",
       " 'l06-cv.ipynb',\n",
       " 'l11-cv.ipynb',\n",
       " 'l12-cv.ipynb',\n",
       " 'L13-CV.ipynb',\n",
       " 'l14-cv.ipynb',\n",
       " 'l15-cv.ipynb',\n",
       " 'l16-cv.ipynb',\n",
       " 'l17-cv.ipynb',\n",
       " 'l18-cv.ipynb',\n",
       " 'l19-cv.ipynb',\n",
       " 'L20-CV.ipynb',\n",
       " 'L21-cv.ipynb',\n",
       " 'l22-cv.ipynb',\n",
       " 'l23-cv.ipynb',\n",
       " 'l24-cv.ipynb',\n",
       " 'l25-cv.ipynb',\n",
       " 'l26-cv.ipynb',\n",
       " 'l27-cv.ipynb',\n",
       " 'l28-cv.ipynb',\n",
       " 'l29-cv.ipynb',\n",
       " 'l30-cv.ipynb',\n",
       " 'l31-cv.ipynb',\n",
       " 'l32-cv.ipynb',\n",
       " 'l33-cv.ipynb',\n",
       " 'l35-cv.ipynb',\n",
       " 'l37-cv.ipynb',\n",
       " 'L38-cv.ipynb',\n",
       " 'l39-cv.ipynb',\n",
       " 'l40-cv.ipynb',\n",
       " 'l42-cv.ipynb',\n",
       " 'l43-cv.ipynb',\n",
       " 'l44-cv.ipynb',\n",
       " 'l45-cv.ipynb',\n",
       " 'l46-cv.ipynb',\n",
       " 'lourve_noise.jpg',\n",
       " 'mask.jpg',\n",
       " 'masters.jpg',\n",
       " 'mehran.jpg',\n",
       " 'mehran2.jpg',\n",
       " 'naser.jpg',\n",
       " 'opencv-logo-1.png',\n",
       " 'opencv.png',\n",
       " 'opencv_inv.png',\n",
       " 'org.jpg',\n",
       " 'Origin_of_Species.jpg',\n",
       " 'scan.jpg',\n",
       " 'shapes.jpg',\n",
       " 'shapestomatch.jpg',\n",
       " 'shapes_donut.jpg',\n",
       " 'shelf.jpg',\n",
       " 'soduku.jpg',\n",
       " 'someshapes.jpg',\n",
       " 'steve-jobs-blur.jpg',\n",
       " 'Sunflowers.jpg',\n",
       " 'waldo.jpg',\n",
       " 'WaldoBeach.jpg',\n",
       " 'walking.avi']"
      ]
     },
     "execution_count": 6,
     "metadata": {},
     "output_type": "execute_result"
    }
   ],
   "source": [
    "os.listdir(r'D:\\\\computer_vision_tutorial\\\\cv_codes')"
   ]
  },
  {
   "cell_type": "code",
   "execution_count": 9,
   "metadata": {},
   "outputs": [],
   "source": [
    "def check(x):\n",
    "    if x == 1:\n",
    "        return 1\n",
    "    else:\n",
    "        return "
   ]
  },
  {
   "cell_type": "code",
   "execution_count": 11,
   "metadata": {},
   "outputs": [
    {
     "data": {
      "text/plain": [
       "NoneType"
      ]
     },
     "execution_count": 11,
     "metadata": {},
     "output_type": "execute_result"
    }
   ],
   "source": [
    "type(check(2))"
   ]
  },
  {
   "cell_type": "code",
   "execution_count": 13,
   "metadata": {},
   "outputs": [
    {
     "name": "stdout",
     "output_type": "stream",
     "text": [
      "ok\n"
     ]
    }
   ],
   "source": [
    "x =check(1)\n",
    "if x:\n",
    "    print('ok')"
   ]
  },
  {
   "cell_type": "code",
   "execution_count": 7,
   "metadata": {},
   "outputs": [],
   "source": [
    "img = cv2.imread(r'D:\\\\computer_vision_tutorial\\\\cv_codes\\1.jpg')"
   ]
  },
  {
   "cell_type": "code",
   "execution_count": 8,
   "metadata": {},
   "outputs": [
    {
     "data": {
      "text/plain": [
       "NoneType"
      ]
     },
     "execution_count": 8,
     "metadata": {},
     "output_type": "execute_result"
    }
   ],
   "source": [
    "type(img)"
   ]
  },
  {
   "cell_type": "code",
   "execution_count": 2,
   "metadata": {},
   "outputs": [],
   "source": [
    "img = cv2.imread(r'D:\\\\computer_vision_tutorial\\\\cv_codes\\candy.jpg')"
   ]
  },
  {
   "cell_type": "code",
   "execution_count": 3,
   "metadata": {},
   "outputs": [
    {
     "data": {
      "text/plain": [
       "numpy.ndarray"
      ]
     },
     "execution_count": 3,
     "metadata": {},
     "output_type": "execute_result"
    }
   ],
   "source": [
    "type(img)"
   ]
  },
  {
   "cell_type": "code",
   "execution_count": 16,
   "metadata": {
    "collapsed": true
   },
   "outputs": [
    {
     "name": "stdout",
     "output_type": "stream",
     "text": [
      "[[[161 184 216]\n",
      "  [161 189 219]\n",
      "  [160 194 218]\n",
      "  ...\n",
      "  [ 18  29  61]\n",
      "  [ 17  28  60]\n",
      "  [ 17  27  57]]\n",
      "\n",
      " [[155 179 207]\n",
      "  [158 185 211]\n",
      "  [155 189 212]\n",
      "  ...\n",
      "  [ 18  29  61]\n",
      "  [ 18  29  61]\n",
      "  [ 18  28  58]]\n",
      "\n",
      " [[150 177 197]\n",
      "  [155 185 204]\n",
      "  [155 188 207]\n",
      "  ...\n",
      "  [ 18  29  61]\n",
      "  [ 17  28  60]\n",
      "  [ 18  28  58]]\n",
      "\n",
      " ...\n",
      "\n",
      " [[  5   4   6]\n",
      "  [  5   4   6]\n",
      "  [  4   3   5]\n",
      "  ...\n",
      "  [ 21  40  75]\n",
      "  [ 13  32  67]\n",
      "  [ 10  24  60]]\n",
      "\n",
      " [[  4   3   5]\n",
      "  [  4   3   5]\n",
      "  [  5   4   6]\n",
      "  ...\n",
      "  [ 34  55  93]\n",
      "  [ 27  49  85]\n",
      "  [ 13  31  68]]\n",
      "\n",
      " [[  4   3   5]\n",
      "  [  4   3   5]\n",
      "  [  5   4   6]\n",
      "  ...\n",
      "  [ 38  61  99]\n",
      "  [ 30  53  91]\n",
      "  [ 18  37  75]]]\n"
     ]
    }
   ],
   "source": [
    "print(img)"
   ]
  },
  {
   "cell_type": "code",
   "execution_count": null,
   "metadata": {},
   "outputs": [],
   "source": []
  },
  {
   "cell_type": "code",
   "execution_count": 17,
   "metadata": {},
   "outputs": [
    {
     "name": "stdout",
     "output_type": "stream",
     "text": [
      "uint8\n"
     ]
    }
   ],
   "source": [
    "print(img.dtype)"
   ]
  },
  {
   "cell_type": "code",
   "execution_count": 18,
   "metadata": {},
   "outputs": [
    {
     "data": {
      "text/plain": [
       "(778, 1383, 3)"
      ]
     },
     "execution_count": 18,
     "metadata": {},
     "output_type": "execute_result"
    }
   ],
   "source": [
    "img.shape"
   ]
  },
  {
   "cell_type": "code",
   "execution_count": 19,
   "metadata": {},
   "outputs": [],
   "source": [
    "import numpy as np"
   ]
  },
  {
   "cell_type": "code",
   "execution_count": 20,
   "metadata": {},
   "outputs": [
    {
     "data": {
      "text/plain": [
       "(778, 1383, 3)"
      ]
     },
     "execution_count": 20,
     "metadata": {},
     "output_type": "execute_result"
    }
   ],
   "source": [
    "np.shape(img)"
   ]
  },
  {
   "cell_type": "code",
   "execution_count": 13,
   "metadata": {},
   "outputs": [],
   "source": [
    "cv2.imshow('image',img)\n",
    "cv2.waitKey(30000)\n",
    "cv2.destroyAllWindows()"
   ]
  },
  {
   "cell_type": "code",
   "execution_count": 8,
   "metadata": {},
   "outputs": [],
   "source": [
    "b_img = img[:,:,0] #BGR"
   ]
  },
  {
   "cell_type": "code",
   "execution_count": 23,
   "metadata": {},
   "outputs": [],
   "source": [
    "import numpy as np"
   ]
  },
  {
   "cell_type": "code",
   "execution_count": 28,
   "metadata": {},
   "outputs": [
    {
     "data": {
      "text/plain": [
       "array([[16, 19, 20, ..., 36, 35, 33],\n",
       "       [ 9, 14, 14, ..., 36, 36, 34],\n",
       "       [ 4, 10, 12, ..., 36, 35, 34],\n",
       "       ...,\n",
       "       [ 5,  5,  4, ..., 45, 37, 31],\n",
       "       [ 4,  4,  5, ..., 60, 53, 37],\n",
       "       [ 4,  4,  5, ..., 66, 58, 43]], dtype=uint8)"
      ]
     },
     "execution_count": 28,
     "metadata": {},
     "output_type": "execute_result"
    }
   ],
   "source": [
    "img.mean(axis=2,dtype=np.uint8)"
   ]
  },
  {
   "cell_type": "code",
   "execution_count": 27,
   "metadata": {},
   "outputs": [
    {
     "data": {
      "text/plain": [
       "array([[187, 189, 190, ...,  36,  35,  33],\n",
       "       [180, 184, 185, ...,  36,  36,  34],\n",
       "       [174, 181, 183, ...,  36,  35,  34],\n",
       "       ...,\n",
       "       [  5,   5,   4, ...,  45,  37,  31],\n",
       "       [  4,   4,   5, ...,  60,  53,  37],\n",
       "       [  4,   4,   5, ...,  66,  58,  43]], dtype=uint8)"
      ]
     },
     "execution_count": 27,
     "metadata": {},
     "output_type": "execute_result"
    }
   ],
   "source": [
    "np.array(img.mean(axis=2),dtype=np.uint8)"
   ]
  },
  {
   "cell_type": "code",
   "execution_count": 40,
   "metadata": {},
   "outputs": [
    {
     "data": {
      "text/plain": [
       "(778, 1383)"
      ]
     },
     "execution_count": 40,
     "metadata": {},
     "output_type": "execute_result"
    }
   ],
   "source": [
    "np.median(img,axis=2).shape"
   ]
  },
  {
   "cell_type": "code",
   "execution_count": 37,
   "metadata": {},
   "outputs": [
    {
     "data": {
      "text/plain": [
       "array([[184, 189, 194, ...,  29,  28,  27],\n",
       "       [179, 185, 189, ...,  29,  29,  28],\n",
       "       [177, 185, 188, ...,  29,  28,  28],\n",
       "       ...,\n",
       "       [  5,   5,   4, ...,  40,  32,  24],\n",
       "       [  4,   4,   5, ...,  55,  49,  31],\n",
       "       [  4,   4,   5, ...,  61,  53,  37]], dtype=uint8)"
      ]
     },
     "execution_count": 37,
     "metadata": {},
     "output_type": "execute_result"
    }
   ],
   "source": [
    "np.array(np.median(img,axis=2),dtype=np.uint8)"
   ]
  },
  {
   "cell_type": "code",
   "execution_count": 38,
   "metadata": {},
   "outputs": [],
   "source": [
    "cv2.imshow('gray',np.array(np.median(img,axis=2),dtype=np.uint8))\n",
    "cv2.waitKey(10000)\n",
    "cv2.destroyAllWindows()"
   ]
  },
  {
   "cell_type": "code",
   "execution_count": 10,
   "metadata": {},
   "outputs": [],
   "source": [
    "colors = ['Blue','Green','Red']\n",
    "for i , c in enumerate(colors):\n",
    "    channel = img[:,:,i]\n",
    "    cv2.imshow(c,channel)\n",
    "    cv2.waitKey(10000)\n",
    "cv2.destroyAllWindows()"
   ]
  },
  {
   "cell_type": "code",
   "execution_count": 7,
   "metadata": {},
   "outputs": [
    {
     "data": {
      "text/plain": [
       "dtype('uint8')"
      ]
     },
     "execution_count": 7,
     "metadata": {},
     "output_type": "execute_result"
    }
   ],
   "source": [
    "img.dtype"
   ]
  },
  {
   "cell_type": "code",
   "execution_count": 41,
   "metadata": {},
   "outputs": [
    {
     "data": {
      "text/plain": [
       "255"
      ]
     },
     "execution_count": 41,
     "metadata": {},
     "output_type": "execute_result"
    }
   ],
   "source": [
    "img.max()"
   ]
  },
  {
   "cell_type": "code",
   "execution_count": 42,
   "metadata": {},
   "outputs": [
    {
     "data": {
      "text/plain": [
       "0"
      ]
     },
     "execution_count": 42,
     "metadata": {},
     "output_type": "execute_result"
    }
   ],
   "source": [
    "img.min()"
   ]
  },
  {
   "cell_type": "code",
   "execution_count": 10,
   "metadata": {},
   "outputs": [
    {
     "data": {
      "text/plain": [
       "256"
      ]
     },
     "execution_count": 10,
     "metadata": {},
     "output_type": "execute_result"
    }
   ],
   "source": [
    "2**8"
   ]
  },
  {
   "cell_type": "raw",
   "metadata": {},
   "source": [
    "[0   255]\n",
    "[       ]\n",
    "[       ]\n",
    "[       ]"
   ]
  },
  {
   "cell_type": "code",
   "execution_count": 11,
   "metadata": {},
   "outputs": [
    {
     "data": {
      "text/plain": [
       "array([[ 0,  0,  0, ..., 44, 47, 42],\n",
       "       [ 0,  0,  0, ..., 30, 42, 49],\n",
       "       [ 9,  7,  7, ..., 30, 41, 48],\n",
       "       ...,\n",
       "       [12, 15, 19, ..., 14, 15, 14],\n",
       "       [17, 15, 12, ..., 20,  8,  1],\n",
       "       [38, 28, 13, ...,  7,  4,  9]], dtype=uint8)"
      ]
     },
     "execution_count": 11,
     "metadata": {},
     "output_type": "execute_result"
    }
   ],
   "source": [
    "b_img"
   ]
  },
  {
   "cell_type": "code",
   "execution_count": 13,
   "metadata": {},
   "outputs": [],
   "source": [
    "cv2.imshow('blue',b_img)\n",
    "cv2.waitKey()\n",
    "cv2.destroyAllWindows()"
   ]
  },
  {
   "cell_type": "code",
   "execution_count": 44,
   "metadata": {},
   "outputs": [],
   "source": [
    "b_img = img[:,:,0]\n",
    "g_img = img[:,:,1]\n",
    "r_img = img[:,:,2]"
   ]
  },
  {
   "cell_type": "code",
   "execution_count": 15,
   "metadata": {},
   "outputs": [],
   "source": [
    "cv2.imshow('blue',b_img)\n",
    "cv2.imshow('green',g_img)\n",
    "cv2.imshow('red',r_img)\n",
    "cv2.waitKey()\n",
    "cv2.destroyAllWindows()"
   ]
  },
  {
   "cell_type": "code",
   "execution_count": 16,
   "metadata": {},
   "outputs": [
    {
     "data": {
      "text/plain": [
       "array([[38, 36, 37, ..., 78, 83, 81],\n",
       "       [38, 37, 39, ..., 64, 78, 88],\n",
       "       [54, 54, 54, ..., 62, 75, 85],\n",
       "       ...,\n",
       "       [49, 52, 57, ..., 75, 73, 72],\n",
       "       [54, 52, 50, ..., 81, 65, 58],\n",
       "       [75, 65, 51, ..., 65, 61, 64]], dtype=uint8)"
      ]
     },
     "execution_count": 16,
     "metadata": {},
     "output_type": "execute_result"
    }
   ],
   "source": [
    "g_img"
   ]
  },
  {
   "cell_type": "code",
   "execution_count": 45,
   "metadata": {},
   "outputs": [
    {
     "name": "stdout",
     "output_type": "stream",
     "text": [
      "76.6286267140284\n",
      "52.56358982651997\n",
      "123.53802136482852\n"
     ]
    }
   ],
   "source": [
    "print(g_img.mean())\n",
    "print(b_img.mean())\n",
    "print(r_img.mean())"
   ]
  },
  {
   "cell_type": "code",
   "execution_count": 18,
   "metadata": {},
   "outputs": [
    {
     "data": {
      "text/plain": [
       "(800, 1200)"
      ]
     },
     "execution_count": 18,
     "metadata": {},
     "output_type": "execute_result"
    }
   ],
   "source": [
    "b_img.shape"
   ]
  },
  {
   "cell_type": "code",
   "execution_count": 46,
   "metadata": {},
   "outputs": [
    {
     "data": {
      "text/plain": [
       "True"
      ]
     },
     "execution_count": 46,
     "metadata": {},
     "output_type": "execute_result"
    }
   ],
   "source": [
    "cv2.imwrite('blue.bmp',b_img)"
   ]
  },
  {
   "cell_type": "code",
   "execution_count": 20,
   "metadata": {},
   "outputs": [
    {
     "data": {
      "text/plain": [
       "'C:\\\\Users\\\\Farid'"
      ]
     },
     "execution_count": 20,
     "metadata": {},
     "output_type": "execute_result"
    }
   ],
   "source": [
    "pwd"
   ]
  },
  {
   "cell_type": "code",
   "execution_count": null,
   "metadata": {},
   "outputs": [],
   "source": [
    "cv2.imwrite(r'D:\\rasa_tutorial\\CV\\insta_video\\shahrivar\\companies\\write_image\\blue.bmp',b_img)\n",
    "#D:\\rasa_tutorial\\CV\\insta_video\\shahrivar\\companies\\write_image"
   ]
  },
  {
   "cell_type": "code",
   "execution_count": 49,
   "metadata": {},
   "outputs": [
    {
     "data": {
      "text/plain": [
       "8607792"
      ]
     },
     "execution_count": 49,
     "metadata": {},
     "output_type": "execute_result"
    }
   ],
   "source": [
    "b_img.shape[0]*img.shape[1]*8"
   ]
  },
  {
   "cell_type": "code",
   "execution_count": 50,
   "metadata": {},
   "outputs": [
    {
     "data": {
      "text/plain": [
       "1075974.0"
      ]
     },
     "execution_count": 50,
     "metadata": {},
     "output_type": "execute_result"
    }
   ],
   "source": [
    "8607792/8\n"
   ]
  },
  {
   "cell_type": "code",
   "execution_count": 51,
   "metadata": {},
   "outputs": [
    {
     "data": {
      "text/plain": [
       "True"
      ]
     },
     "execution_count": 51,
     "metadata": {},
     "output_type": "execute_result"
    }
   ],
   "source": [
    "cv2.imwrite(r'org.bmp',img)\n",
    "#D:\\rasa_tutorial\\CV\\insta_video\\shahrivar\\companies\\write_image"
   ]
  },
  {
   "cell_type": "code",
   "execution_count": 24,
   "metadata": {},
   "outputs": [
    {
     "data": {
      "text/plain": [
       "23040000"
      ]
     },
     "execution_count": 24,
     "metadata": {},
     "output_type": "execute_result"
    }
   ],
   "source": [
    "img.shape[0]*img.shape[1]*img.shape[2]*8"
   ]
  },
  {
   "cell_type": "code",
   "execution_count": 25,
   "metadata": {},
   "outputs": [
    {
     "data": {
      "text/plain": [
       "2880000.0"
      ]
     },
     "execution_count": 25,
     "metadata": {},
     "output_type": "execute_result"
    }
   ],
   "source": [
    "23040000/8"
   ]
  },
  {
   "cell_type": "code",
   "execution_count": 26,
   "metadata": {},
   "outputs": [
    {
     "data": {
      "text/plain": [
       "True"
      ]
     },
     "execution_count": 26,
     "metadata": {},
     "output_type": "execute_result"
    }
   ],
   "source": [
    "cv2.imwrite(r'org.jpg',img)\n"
   ]
  },
  {
   "cell_type": "code",
   "execution_count": 52,
   "metadata": {},
   "outputs": [],
   "source": [
    "my_mat = np.ones((500,500),dtype=np.uint8)*127"
   ]
  },
  {
   "cell_type": "code",
   "execution_count": 53,
   "metadata": {},
   "outputs": [
    {
     "data": {
      "text/plain": [
       "array([[127, 127, 127, ..., 127, 127, 127],\n",
       "       [127, 127, 127, ..., 127, 127, 127],\n",
       "       [127, 127, 127, ..., 127, 127, 127],\n",
       "       ...,\n",
       "       [127, 127, 127, ..., 127, 127, 127],\n",
       "       [127, 127, 127, ..., 127, 127, 127],\n",
       "       [127, 127, 127, ..., 127, 127, 127]], dtype=uint8)"
      ]
     },
     "execution_count": 53,
     "metadata": {},
     "output_type": "execute_result"
    }
   ],
   "source": [
    "my_mat"
   ]
  },
  {
   "cell_type": "code",
   "execution_count": 54,
   "metadata": {},
   "outputs": [],
   "source": [
    "cv2.imshow('mat',my_mat)\n",
    "cv2.waitKey()\n",
    "cv2.destroyAllWindows()"
   ]
  },
  {
   "cell_type": "code",
   "execution_count": 55,
   "metadata": {},
   "outputs": [],
   "source": [
    "random_mat= np.random.randint(0,256,(500,500,3),dtype=np.uint8)"
   ]
  },
  {
   "cell_type": "code",
   "execution_count": 56,
   "metadata": {},
   "outputs": [
    {
     "data": {
      "text/plain": [
       "array([[  35.89767242,  242.59583379,  -87.93351   , ...,   73.88448906,\n",
       "         107.57197382, -557.81313267],\n",
       "       [-277.86232473, -167.04334723,  -16.72831299, ...,   -6.29345006,\n",
       "         206.10639911,  -76.49530065],\n",
       "       [ 314.15667463, -162.24022924,  455.3860813 , ...,  -22.37448364,\n",
       "         100.12069941, -610.41825397],\n",
       "       ...,\n",
       "       [-157.5743632 ,   65.48630011,  174.83352968, ...,   67.11811963,\n",
       "        -370.10706126,  135.94562893],\n",
       "       [ 244.13245145, -110.33513789,  132.36793288, ...,  150.86324438,\n",
       "         -59.61088039,  161.37845483],\n",
       "       [ -43.59125442,  424.97500679,  -10.23691271, ...,   55.85974104,\n",
       "        -311.80327427,  132.79409592]])"
      ]
     },
     "execution_count": 56,
     "metadata": {},
     "output_type": "execute_result"
    }
   ],
   "source": [
    "np.random.randn(500,500)*255"
   ]
  },
  {
   "cell_type": "code",
   "execution_count": 57,
   "metadata": {
    "collapsed": true
   },
   "outputs": [
    {
     "ename": "KeyboardInterrupt",
     "evalue": "",
     "output_type": "error",
     "traceback": [
      "\u001b[1;31m------------------------------------------------------\u001b[0m",
      "\u001b[1;31mKeyboardInterrupt\u001b[0m    Traceback (most recent call last)",
      "\u001b[1;32m<ipython-input-57-834cb34c342a>\u001b[0m in \u001b[0;36m<module>\u001b[1;34m\u001b[0m\n\u001b[0;32m      2\u001b[0m cv2.imshow('random normal mat',np.random.randn(500,500,3)*255\n\u001b[0;32m      3\u001b[0m )\n\u001b[1;32m----> 4\u001b[1;33m \u001b[0mcv2\u001b[0m\u001b[1;33m.\u001b[0m\u001b[0mwaitKey\u001b[0m\u001b[1;33m(\u001b[0m\u001b[1;33m)\u001b[0m\u001b[1;33m\u001b[0m\u001b[1;33m\u001b[0m\u001b[0m\n\u001b[0m\u001b[0;32m      5\u001b[0m \u001b[0mcv2\u001b[0m\u001b[1;33m.\u001b[0m\u001b[0mdestroyAllWindows\u001b[0m\u001b[1;33m(\u001b[0m\u001b[1;33m)\u001b[0m\u001b[1;33m\u001b[0m\u001b[1;33m\u001b[0m\u001b[0m\n",
      "\u001b[1;31mKeyboardInterrupt\u001b[0m: "
     ]
    }
   ],
   "source": [
    "cv2.imshow('random mat',random_mat)\n",
    "cv2.imshow('random normal mat',np.random.randn(500,500,3)*255\n",
    ")\n",
    "cv2.waitKey()\n",
    "cv2.destroyAllWindows()\n"
   ]
  },
  {
   "cell_type": "code",
   "execution_count": 61,
   "metadata": {},
   "outputs": [],
   "source": [
    "img_zeros = np.zeros((img.shape[0]+10,img.shape[1],3)\n",
    "                     ,dtype=np.uint8)\n",
    "img_zeros[:9,:] =[255,0,0 ]\n",
    "cv2.imshow('image2',img_zeros)\n",
    "\n",
    "cv2.waitKey()\n",
    "cv2.destroyAllWindows()"
   ]
  },
  {
   "cell_type": "code",
   "execution_count": 68,
   "metadata": {},
   "outputs": [],
   "source": [
    "img_zeros = np.zeros((img.shape[0]+10,img.shape[1],3)\n",
    "                     ,dtype=np.uint8)\n",
    "img_zeros[:9,:,:] =127 \n",
    "img_zeros[10:,:,:] =img \n",
    "\n",
    "cv2.imshow('image',img)\n",
    "cv2.imshow('image2',img_zeros)\n",
    "\n",
    "cv2.waitKey(0)\n",
    "cv2.destroyAllWindows()\n"
   ]
  },
  {
   "cell_type": "code",
   "execution_count": 63,
   "metadata": {},
   "outputs": [],
   "source": [
    "gray = cv2.cvtColor(img,cv2.COLOR_BGR2GRAY)"
   ]
  },
  {
   "cell_type": "code",
   "execution_count": 64,
   "metadata": {},
   "outputs": [
    {
     "data": {
      "text/plain": [
       "(778, 1383)"
      ]
     },
     "execution_count": 64,
     "metadata": {},
     "output_type": "execute_result"
    }
   ],
   "source": [
    "gray.shape"
   ]
  },
  {
   "cell_type": "code",
   "execution_count": 67,
   "metadata": {},
   "outputs": [],
   "source": [
    "cv2.imshow('gray',gray)\n",
    "cv2.imshow('median',np.array(np.median(img,axis=2),dtype=np.uint8))\n",
    "\n",
    "cv2.waitKey()\n",
    "cv2.destroyAllWindows()"
   ]
  },
  {
   "cell_type": "code",
   "execution_count": 39,
   "metadata": {},
   "outputs": [],
   "source": [
    "gray_img = cv2.imread(r'D:\\rasa_tutorial\\CV\\insta_video\\shahrivar\\companies\\1.jpg',0)"
   ]
  },
  {
   "cell_type": "code",
   "execution_count": 40,
   "metadata": {},
   "outputs": [
    {
     "data": {
      "text/plain": [
       "(800, 1200)"
      ]
     },
     "execution_count": 40,
     "metadata": {},
     "output_type": "execute_result"
    }
   ],
   "source": [
    "gray_img.shape"
   ]
  },
  {
   "cell_type": "code",
   "execution_count": 66,
   "metadata": {},
   "outputs": [
    {
     "ename": "NameError",
     "evalue": "name 'gray_img' is not defined",
     "output_type": "error",
     "traceback": [
      "\u001b[1;31m------------------------------------------------------\u001b[0m",
      "\u001b[1;31mNameError\u001b[0m            Traceback (most recent call last)",
      "\u001b[1;32m<ipython-input-66-a5be924d38c2>\u001b[0m in \u001b[0;36m<module>\u001b[1;34m\u001b[0m\n\u001b[1;32m----> 1\u001b[1;33m \u001b[0mcv2\u001b[0m\u001b[1;33m.\u001b[0m\u001b[0mimshow\u001b[0m\u001b[1;33m(\u001b[0m\u001b[1;34m'gray'\u001b[0m\u001b[1;33m,\u001b[0m\u001b[0mgray_img\u001b[0m\u001b[1;33m)\u001b[0m\u001b[1;33m\u001b[0m\u001b[1;33m\u001b[0m\u001b[0m\n\u001b[0m\u001b[0;32m      2\u001b[0m \u001b[0mcv2\u001b[0m\u001b[1;33m.\u001b[0m\u001b[0mimshow\u001b[0m\u001b[1;33m(\u001b[0m\u001b[1;34m'median'\u001b[0m\u001b[1;33m,\u001b[0m\u001b[0mnp\u001b[0m\u001b[1;33m.\u001b[0m\u001b[0marray\u001b[0m\u001b[1;33m(\u001b[0m\u001b[0mnp\u001b[0m\u001b[1;33m.\u001b[0m\u001b[0mmedian\u001b[0m\u001b[1;33m(\u001b[0m\u001b[0mimg\u001b[0m\u001b[1;33m,\u001b[0m\u001b[0maxis\u001b[0m\u001b[1;33m=\u001b[0m\u001b[1;36m2\u001b[0m\u001b[1;33m)\u001b[0m\u001b[1;33m,\u001b[0m\u001b[0mdtype\u001b[0m\u001b[1;33m=\u001b[0m\u001b[0mnp\u001b[0m\u001b[1;33m.\u001b[0m\u001b[0muint8\u001b[0m\u001b[1;33m)\u001b[0m\u001b[1;33m)\u001b[0m\u001b[1;33m\u001b[0m\u001b[1;33m\u001b[0m\u001b[0m\n\u001b[0;32m      3\u001b[0m \u001b[1;33m\u001b[0m\u001b[0m\n\u001b[0;32m      4\u001b[0m \u001b[1;33m\u001b[0m\u001b[0m\n\u001b[0;32m      5\u001b[0m \u001b[0mcv2\u001b[0m\u001b[1;33m.\u001b[0m\u001b[0mwaitKey\u001b[0m\u001b[1;33m(\u001b[0m\u001b[1;36m0\u001b[0m\u001b[1;33m)\u001b[0m\u001b[1;33m\u001b[0m\u001b[1;33m\u001b[0m\u001b[0m\n",
      "\u001b[1;31mNameError\u001b[0m: name 'gray_img' is not defined"
     ]
    }
   ],
   "source": [
    "cv2.imshow('gray',gray_img)\n",
    "cv2.imshow('median',np.array(np.median(img,axis=2),dtype=np.uint8))\n",
    "\n",
    "\n",
    "cv2.waitKey(0)\n",
    "cv2.destroyAllWindows()"
   ]
  },
  {
   "cell_type": "code",
   "execution_count": 57,
   "metadata": {},
   "outputs": [],
   "source": [
    "im = cv2.imread('jooje.jpg')\n",
    "b_img = im[:,:,0]\n",
    "g_img = im[:,:,1]\n",
    "r_img = im[:,:,2]\n",
    "# new_im = im.copy()\n",
    "# new_im[:,:,0] = g_img \n",
    "# new_im[:,:,1] = r_img \n",
    "# new_im[:,:,2] = b_img \n",
    "new_im = cv2.merge([r_img,b_img,g_img])\n",
    "new_im2 = cv2.merge([g_img,r_img,b_img])\n",
    "cv2.imshow('org',im)\n",
    "cv2.imshow('merge',new_im)\n",
    "cv2.imshow('merge2',new_im2)\n",
    "cv2.waitKey(0)\n",
    "cv2.destroyAllWindows()"
   ]
  },
  {
   "cell_type": "code",
   "execution_count": 58,
   "metadata": {},
   "outputs": [],
   "source": [
    "\n",
    "hsv_image = cv2.cvtColor(img,cv2.COLOR_BGR2HSV)"
   ]
  },
  {
   "cell_type": "code",
   "execution_count": 59,
   "metadata": {},
   "outputs": [
    {
     "data": {
      "text/plain": [
       "array([[[ 51, 255,  38],\n",
       "        [ 52, 255,  36],\n",
       "        [ 51, 255,  37],\n",
       "        ...,\n",
       "        [ 35, 111,  78],\n",
       "        [ 35, 111,  83],\n",
       "        [ 36, 123,  81]],\n",
       "\n",
       "       [[ 51, 255,  38],\n",
       "        [ 51, 255,  37],\n",
       "        [ 50, 255,  39],\n",
       "        ...,\n",
       "        [ 35, 135,  64],\n",
       "        [ 35, 118,  78],\n",
       "        [ 36, 113,  88]],\n",
       "\n",
       "       [[ 47, 212,  54],\n",
       "        [ 47, 222,  54],\n",
       "        [ 47, 222,  54],\n",
       "        ...,\n",
       "        [ 35, 132,  62],\n",
       "        [ 35, 116,  75],\n",
       "        [ 36, 111,  85]],\n",
       "\n",
       "       ...,\n",
       "\n",
       "       [[ 46, 193,  49],\n",
       "        [ 46, 181,  52],\n",
       "        [ 44, 170,  57],\n",
       "        ...,\n",
       "        [ 43, 207,  75],\n",
       "        [ 43, 203,  73],\n",
       "        [ 43, 205,  72]],\n",
       "\n",
       "       [[ 46, 175,  54],\n",
       "        [ 46, 181,  52],\n",
       "        [ 44, 194,  50],\n",
       "        ...,\n",
       "        [ 43, 192,  81],\n",
       "        [ 43, 224,  65],\n",
       "        [ 43, 251,  58]],\n",
       "\n",
       "       [[ 46, 126,  75],\n",
       "        [ 46, 145,  65],\n",
       "        [ 44, 190,  51],\n",
       "        ...,\n",
       "        [ 43, 228,  65],\n",
       "        [ 43, 238,  61],\n",
       "        [ 44, 219,  64]]], dtype=uint8)"
      ]
     },
     "execution_count": 59,
     "metadata": {},
     "output_type": "execute_result"
    }
   ],
   "source": [
    "hsv_image"
   ]
  },
  {
   "cell_type": "code",
   "execution_count": 44,
   "metadata": {},
   "outputs": [
    {
     "data": {
      "text/plain": [
       "(800, 1200, 3)"
      ]
     },
     "execution_count": 44,
     "metadata": {},
     "output_type": "execute_result"
    }
   ],
   "source": [
    "hsv_image.shape"
   ]
  },
  {
   "cell_type": "code",
   "execution_count": 60,
   "metadata": {},
   "outputs": [],
   "source": [
    "hue = hsv_image[:,:,0]"
   ]
  },
  {
   "cell_type": "code",
   "execution_count": 61,
   "metadata": {},
   "outputs": [
    {
     "data": {
      "text/plain": [
       "array([[51, 52, 51, ..., 35, 35, 36],\n",
       "       [51, 51, 50, ..., 35, 35, 36],\n",
       "       [47, 47, 47, ..., 35, 35, 36],\n",
       "       ...,\n",
       "       [46, 46, 44, ..., 43, 43, 43],\n",
       "       [46, 46, 44, ..., 43, 43, 43],\n",
       "       [46, 46, 44, ..., 43, 43, 44]], dtype=uint8)"
      ]
     },
     "execution_count": 61,
     "metadata": {},
     "output_type": "execute_result"
    }
   ],
   "source": [
    "hue"
   ]
  },
  {
   "cell_type": "code",
   "execution_count": 62,
   "metadata": {},
   "outputs": [],
   "source": [
    "cv2.imshow('hue',hue)\n",
    "cv2.waitKey()\n",
    "cv2.destroyAllWindows()"
   ]
  },
  {
   "cell_type": "code",
   "execution_count": 63,
   "metadata": {},
   "outputs": [],
   "source": [
    "def filter_color(image,hue_min,hue_max,writeimage=False,filename=''):\n",
    "    hue = cv2.cvtColor(image,cv2.COLOR_BGR2HSV)[:,:,0]\n",
    "    gary = cv2.cvtColor(image,cv2.COLOR_BGR2GRAY)\n",
    "    image_copy = image.copy()\n",
    "    \n",
    "        \n",
    "    for i in range(image.shape[0]):\n",
    "        for j in range(image.shape[1]):\n",
    "            if hue_max < hue_min:\n",
    "                if hue[i,j]<=hue_max or hue[i,j]>=hue_min :\n",
    "                    pass\n",
    "                else:\n",
    "                    image_copy[i,j,0]=gary[i,j]\n",
    "                    image_copy[i,j,1]=gary[i,j]\n",
    "                    image_copy[i,j,2]=gary[i,j]\n",
    "            else:\n",
    "                if hue[i,j]<=hue_max and hue[i,j]>=hue_min:\n",
    "                    pass\n",
    "                else:\n",
    "                    image_copy[i,j,0]=gary[i,j]\n",
    "                    image_copy[i,j,1]=gary[i,j]\n",
    "                    image_copy[i,j,2]=gary[i,j]\n",
    "    cv2.imshow('orginal',image)\n",
    "    cv2.imshow('filtered',image_copy)\n",
    "    if  writeimage:\n",
    "        print('1')\n",
    "        cv2.imwrite(filename,image_copy)\n",
    "    cv2.waitKey()\n",
    "    cv2.destroyAllWindows()"
   ]
  },
  {
   "cell_type": "code",
   "execution_count": 64,
   "metadata": {},
   "outputs": [],
   "source": [
    "fruit_img = cv2.imread(r'D:\\rasa_tutorial\\CV\\insta_video\\shahrivar\\companies\\2.jpg')"
   ]
  },
  {
   "cell_type": "code",
   "execution_count": 65,
   "metadata": {},
   "outputs": [],
   "source": [
    "husky = cv2.imread(r'D:\\rasa_tutorial\\CV\\insta_video\\shahrivar\\companies\\3.jpeg')"
   ]
  },
  {
   "cell_type": "code",
   "execution_count": 66,
   "metadata": {},
   "outputs": [],
   "source": [
    "filter_color(husky,90,135)"
   ]
  },
  {
   "cell_type": "code",
   "execution_count": 67,
   "metadata": {},
   "outputs": [
    {
     "name": "stdout",
     "output_type": "stream",
     "text": [
      "1\n"
     ]
    }
   ],
   "source": [
    "cat = cv2.imread(r'D:\\rasa_tutorial\\CV\\insta_video\\shahrivar\\companies\\4.jpg')\n",
    "filter_color(cat,90,135,writeimage=True,filename=r'D:\\rasa_tutorial\\CV\\insta_video\\shahrivar\\companies\\write_image\\cat.jpg')"
   ]
  },
  {
   "cell_type": "code",
   "execution_count": 68,
   "metadata": {},
   "outputs": [],
   "source": [
    "def filter_color_black(image,hue_min,hue_max,writeimage=False,filename=''):\n",
    "    hsv_img = cv2.cvtColor(image,cv2.COLOR_BGR2HSV)\n",
    "    hue = hsv_img[:,:,0]\n",
    "    saturation = hsv_img[:,:,1]\n",
    "    gary = cv2.cvtColor(image,cv2.COLOR_BGR2GRAY)\n",
    "    image_copy = image.copy()\n",
    "    \n",
    "        \n",
    "    for i in range(image.shape[0]):\n",
    "        for j in range(image.shape[1]):\n",
    "            if hue_max < hue_min:\n",
    "                if (hue[i,j]<=hue_max or hue[i,j]>=hue_min) and saturation[i,j]>50 :\n",
    "                    pass\n",
    "                else:\n",
    "                    image_copy[i,j,0]=0\n",
    "                    image_copy[i,j,1]=0\n",
    "                    image_copy[i,j,2]=0\n",
    "            else:\n",
    "                if hue[i,j]<=hue_max and hue[i,j]>=hue_min  and saturation[i,j]>50:\n",
    "                    pass\n",
    "                else:\n",
    "                    image_copy[i,j,0]=0\n",
    "                    image_copy[i,j,1]=0\n",
    "                    image_copy[i,j,2]=0\n",
    "    cv2.imshow('orginal',image)\n",
    "    cv2.imshow('filtered',image_copy)\n",
    "    if  writeimage:\n",
    "        print('1')\n",
    "        cv2.imwrite(filename,image_copy)\n",
    "    cv2.waitKey()\n",
    "    cv2.destroyAllWindows()"
   ]
  },
  {
   "cell_type": "code",
   "execution_count": 69,
   "metadata": {},
   "outputs": [],
   "source": [
    "filter_color_black(fruit_img,15,30)"
   ]
  },
  {
   "cell_type": "code",
   "execution_count": 70,
   "metadata": {},
   "outputs": [
    {
     "name": "stdout",
     "output_type": "stream",
     "text": [
      "1\n"
     ]
    }
   ],
   "source": [
    "filter_color_black(cat,100,125,writeimage=True,filename=r'D:\\rasa_tutorial\\CV\\insta_video\\shahrivar\\companies\\write_image\\cat2.jpg')"
   ]
  },
  {
   "cell_type": "code",
   "execution_count": 71,
   "metadata": {},
   "outputs": [],
   "source": [
    "import matplotlib.pyplot as plt\n",
    "%matplotlib inline"
   ]
  },
  {
   "cell_type": "code",
   "execution_count": 72,
   "metadata": {},
   "outputs": [
    {
     "data": {
      "image/png": "[encoded data removed]",
      "text/plain": [
       "<Figure size 432x288 with 1 Axes>"
      ]
     },
     "metadata": {
      "needs_background": "light"
     },
     "output_type": "display_data"
    }
   ],
   "source": [
    "plt.hist(gray_img,bins=np.linspace(0,255,10));"
   ]
  },
  {
   "cell_type": "code",
   "execution_count": 73,
   "metadata": {},
   "outputs": [
    {
     "data": {
      "text/plain": [
       "(800, 1200)"
      ]
     },
     "execution_count": 73,
     "metadata": {},
     "output_type": "execute_result"
    }
   ],
   "source": [
    "gray_img.shape"
   ]
  },
  {
   "cell_type": "code",
   "execution_count": 76,
   "metadata": {},
   "outputs": [],
   "source": [
    "cv2.imshow('hue',hue)\n",
    "cv2.waitKey()\n",
    "cv2.destroyAllWindows()"
   ]
  },
  {
   "cell_type": "code",
   "execution_count": 75,
   "metadata": {},
   "outputs": [
    {
     "data": {
      "text/plain": [
       "(array([[  1.,   1., 623., ...,   0.,   2.,   1.],\n",
       "        [  1.,   2., 615., ...,   0.,   0.,   2.],\n",
       "        [  2.,   2., 630., ...,   0.,   0.,   0.],\n",
       "        ...,\n",
       "        [  6., 163., 599., ...,   0.,   0.,   0.],\n",
       "        [ 12., 162., 567., ...,   0.,   0.,   1.],\n",
       "        [  9., 166., 546., ...,   0.,   1.,   3.]]),\n",
       " array([  0,  15,  30,  45,  60,  75,  90, 105, 120, 135, 150, 165, 180]),\n",
       " <a list of 1200 BarContainer objects>)"
      ]
     },
     "execution_count": 75,
     "metadata": {},
     "output_type": "execute_result"
    },
    {
     "data": {
      "image/png": "[encoded data removed]",
      "text/plain": [
       "<Figure size 432x288 with 1 Axes>"
      ]
     },
     "metadata": {
      "needs_background": "light"
     },
     "output_type": "display_data"
    }
   ],
   "source": [
    "plt.hist(hue,bins=[0,15,30,45,60,75,90,105,120,135,150,165,180])"
   ]
  },
  {
   "cell_type": "code",
   "execution_count": null,
   "metadata": {},
   "outputs": [],
   "source": []
  }
 ],
 "metadata": {
  "kernelspec": {
   "display_name": "Python 3",
   "language": "python",
   "name": "python3"
  },
  "language_info": {
   "codemirror_mode": {
    "name": "ipython",
    "version": 3
   },
   "file_extension": ".py",
   "mimetype": "text/x-python",
   "name": "python",
   "nbconvert_exporter": "python",
   "pygments_lexer": "ipython3",
   "version": "3.8.5"
  }
 },
 "nbformat": 4,
 "nbformat_minor": 4
}
