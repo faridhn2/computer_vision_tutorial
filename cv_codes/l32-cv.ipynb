{
 "cells": [
  {
   "cell_type": "markdown",
   "metadata": {},
   "source": [
    "## Blob Detection"
   ]
  },
  {
   "cell_type": "code",
   "execution_count": 1,
   "metadata": {},
   "outputs": [],
   "source": [
    "# Standard imports\n",
    "import cv2\n",
    "import numpy as np;\n",
    " \n",
    "# Read image\n",
    "image = cv2.imread(\"Sunflowers.jpg\")\n",
    " \n",
    "# Set up the detector with default parameters.\n",
    "\n",
    "params = cv2.SimpleBlobDetector_Params()\n",
    "\n",
    "# Change thresholds\n",
    "params.minThreshold = 10\n",
    "params.maxThreshold = 200\n",
    "\n",
    "\n",
    "# Filter by Area.\n",
    "params.filterByArea = True\n",
    "params.minArea = 150\n",
    "\n",
    "# Filter by Circularity\n",
    "params.filterByCircularity = True\n",
    "params.minCircularity = 0.01\n",
    "\n",
    "# Filter by Convexity\n",
    "params.filterByConvexity = True\n",
    "params.minConvexity = 0.87\n",
    "\n",
    "# Filter by Inertia\n",
    "params.filterByInertia = True\n",
    "params.minInertiaRatio = 0.1\n",
    "\n",
    "# Create a detector with the parameters\n",
    "# OLD: detector = cv2.SimpleBlobDetector(params)\n",
    "detector = cv2.SimpleBlobDetector_create(params)\n",
    "\n",
    "\n",
    "\n",
    "# Detect blobs.\n",
    "keypoints = detector.detect(image)\n",
    " \n",
    "# Draw detected blobs as red circles.\n",
    "# cv2.DRAW_MATCHES_FLAGS_DRAW_RICH_KEYPOINTS ensures the size of\n",
    "# the circle corresponds to the size of blob\n",
    "blank = np.zeros((1,1)) \n",
    "blobs = cv2.drawKeypoints(image,\n",
    "                          keypoints, \n",
    "                          blank, \n",
    "                          (0,255,255),\n",
    "                          cv2.DRAW_MATCHES_FLAGS_DEFAULT)\n",
    " \n",
    "# Show keypoints\n",
    "cv2.imshow(\"Blobs\", blobs)\n",
    "cv2.waitKey(0)\n",
    "cv2.destroyAllWindows()"
   ]
  },
  {
   "cell_type": "markdown",
   "metadata": {
    "collapsed": true
   },
   "source": [
    "The function **cv2.drawKeypoints** takes the following arguments:\n",
    "\n",
    "**cv2.drawKeypoints**(input image, keypoints, blank_output_array, color, flags)\n",
    "\n",
    "flags:\n",
    "- cv2.DRAW_MATCHES_FLAGS_DEFAULT\n",
    "- cv2.DRAW_MATCHES_FLAGS_DRAW_RICH_KEYPOINTS\n",
    "- cv2.DRAW_MATCHES_FLAGS_DRAW_OVER_OUTIMG\n",
    "- cv2.DRAW_MATCHES_FLAGS_NOT_DRAW_SINGLE_POINTS"
   ]
  },
  {
   "cell_type": "code",
   "execution_count": 3,
   "metadata": {
    "collapsed": true
   },
   "outputs": [],
   "source": []
  }
 ],
 "metadata": {
  "kernelspec": {
   "display_name": "Python 3",
   "language": "python",
   "name": "python3"
  },
  "language_info": {
   "codemirror_mode": {
    "name": "ipython",
    "version": 3
   },
   "file_extension": ".py",
   "mimetype": "text/x-python",
   "name": "python",
   "nbconvert_exporter": "python",
   "pygments_lexer": "ipython3",
   "version": "3.8.5"
  }
 },
 "nbformat": 4,
 "nbformat_minor": 1
}
