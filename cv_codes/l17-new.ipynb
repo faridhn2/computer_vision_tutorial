{
 "cells": [
  {
   "cell_type": "code",
   "execution_count": 2,
   "metadata": {},
   "outputs": [],
   "source": [
    "import cv2"
   ]
  },
  {
   "cell_type": "code",
   "execution_count": null,
   "metadata": {},
   "outputs": [],
   "source": [
    "img = cv2.imread('car_small2.jpg')\n",
    "cv2.imshow('im',img)\n",
    "wk =cv2.waitKey(0)\n",
    "print(wk)\n",
    "cv2.destroyAllWindows()"
   ]
  },
  {
   "cell_type": "code",
   "execution_count": null,
   "metadata": {},
   "outputs": [],
   "source": [
    "cap = cv2.VideoCapture(0)"
   ]
  },
  {
   "cell_type": "code",
   "execution_count": null,
   "metadata": {},
   "outputs": [],
   "source": [
    "while True:\n",
    "    ret,frame= cap.read()\n",
    "    if ret:\n",
    "        cv2.imshow('frame',frame)\n",
    "        if cv2.waitKey(1) == 13:\n",
    "            break\n",
    "cap.release()         \n",
    "cv2.destroyAllWindows()"
   ]
  },
  {
   "cell_type": "code",
   "execution_count": null,
   "metadata": {},
   "outputs": [],
   "source": [
    "ord('q')"
   ]
  },
  {
   "cell_type": "code",
   "execution_count": null,
   "metadata": {},
   "outputs": [],
   "source": [
    "cap = cv2.VideoCapture('walking.avi')\n",
    "fps = cap.get(cv2.CAP_PROP_FPS)\n",
    "while True:\n",
    "    ret,frame= cap.read()\n",
    "    \n",
    "    \n",
    "    if ret:\n",
    "        cv2.imshow('frame',frame)\n",
    "        if cv2.waitKey(int(1000/fps)) ==ord('q'):\n",
    "            break\n",
    "#     else:\n",
    "    \n",
    "    if not cap.isOpened():\n",
    "        break\n",
    "\n",
    "cap.release()         \n",
    "cv2.destroyAllWindows()"
   ]
  },
  {
   "cell_type": "code",
   "execution_count": null,
   "metadata": {},
   "outputs": [],
   "source": [
    "cap = cv2.VideoCapture('rtsp://170.93.143.139/rtplive/470011e600ef003a004ee33696235daa')\n",
    "# fps = cap.get(cv2.CAP_PROP_FPS)\n",
    "while True:\n",
    "    ret,frame= cap.read()\n",
    "    \n",
    "    \n",
    "    if ret:\n",
    "        cv2.imshow('frame',frame)\n",
    "        if cv2.waitKey(50) ==ord('q'):\n",
    "            break\n",
    "#     else:\n",
    "    \n",
    "    if not cap.isOpened():\n",
    "        break\n",
    "\n",
    "cap.release()         \n",
    "cv2.destroyAllWindows()"
   ]
  },
  {
   "cell_type": "code",
   "execution_count": 30,
   "metadata": {},
   "outputs": [],
   "source": [
    "cap = cv2.VideoCapture(0)\n",
    "ret,oldframe= cap.read()\n",
    "oldframe = cv2.cvtColor(oldframe,cv2.COLOR_BGR2GRAY)\n",
    "\n",
    "tresh = 50\n",
    "counter = 0\n",
    "while True:\n",
    "    counter +=1\n",
    "    ret,frame= cap.read()\n",
    "    if ret and counter%5==0:\n",
    "        frame = cv2.cvtColor(frame,cv2.COLOR_BGR2GRAY)\n",
    "        diff = cv2.subtract(frame,oldframe)\n",
    "\n",
    "        diff[diff>tresh]=255\n",
    "        diff[diff<=tresh]=0\n",
    "        rate = ((diff==255).sum()/(diff.shape[0]*diff.shape[1]))*100\n",
    "    \n",
    "        if rate>1:\n",
    "            font = cv2.FONT_HERSHEY_SIMPLEX\n",
    "  \n",
    "            # org\n",
    "            org = (int(diff.shape[0]/2), int(diff.shape[1]/2))\n",
    "\n",
    "            # fontScale\n",
    "            fontScale = 2\n",
    "\n",
    "            \n",
    "            color = 255\n",
    "\n",
    "            # Line thickness of 2 px\n",
    "            thickness = 5\n",
    "\n",
    "            # Using cv2.putText() method\n",
    "            image = cv2.putText(diff, 'Moved', org, font, \n",
    "                               fontScale, color, thickness, cv2.LINE_AA)\n",
    "\n",
    "        cv2.imshow('diff',diff)\n",
    "        oldframe=frame\n",
    "        if cv2.waitKey(int(10)) ==13:\n",
    "            break\n",
    "\n",
    "#     else:\n",
    "#         break\n",
    "    \n",
    "\n",
    "cap.release()         \n",
    "cv2.destroyAllWindows()"
   ]
  },
  {
   "cell_type": "code",
   "execution_count": 33,
   "metadata": {},
   "outputs": [],
   "source": [
    "cap = cv2.VideoCapture(0)\n",
    "ret,oldframe= cap.read()\n",
    "oldframe = cv2.cvtColor(oldframe,cv2.COLOR_BGR2GRAY)\n",
    "\n",
    "tresh = 50\n",
    "counter = 0\n",
    "moved = False\n",
    "while True:\n",
    "    counter +=1\n",
    "    ret,frame= cap.read()\n",
    "    if ret and counter%5==0:\n",
    "        frame = cv2.cvtColor(frame,cv2.COLOR_BGR2GRAY)\n",
    "        diff = cv2.subtract(frame,oldframe)\n",
    "\n",
    "        diff[diff>tresh]=255\n",
    "        diff[diff<=tresh]=0\n",
    "        rate = ((diff==255).sum()/(diff.shape[0]*diff.shape[1]))*100\n",
    "    \n",
    "        if rate>1:\n",
    "            moved = True\n",
    "        if moved :\n",
    "            font = cv2.FONT_HERSHEY_SIMPLEX\n",
    "  \n",
    "            # org\n",
    "            org = (int(diff.shape[0]/2), int(diff.shape[1]/2))\n",
    "\n",
    "            # fontScale\n",
    "            fontScale = 2\n",
    "\n",
    "            \n",
    "            color = 255\n",
    "\n",
    "            # Line thickness of 2 px\n",
    "            thickness = 5\n",
    "\n",
    "            # Using cv2.putText() method\n",
    "            image = cv2.putText(diff, 'Moved', org, font, \n",
    "                               fontScale, color, thickness)\n",
    "\n",
    "            if counter%30==0:\n",
    "                moved =False\n",
    "        cv2.imshow('diff',diff)\n",
    "        oldframe=frame\n",
    "        if cv2.waitKey(int(10)) ==13:\n",
    "            break\n",
    "\n",
    "#     else:\n",
    "#         break\n",
    "    \n",
    "\n",
    "cap.release()         \n",
    "cv2.destroyAllWindows()"
   ]
  },
  {
   "cell_type": "code",
   "execution_count": 6,
   "metadata": {},
   "outputs": [
    {
     "data": {
      "text/plain": [
       "array([[0, 0, 0, ..., 0, 0, 0],\n",
       "       [0, 0, 0, ..., 0, 0, 0],\n",
       "       [0, 0, 0, ..., 0, 0, 0],\n",
       "       ...,\n",
       "       [0, 2, 2, ..., 1, 1, 1],\n",
       "       [0, 2, 1, ..., 0, 0, 0],\n",
       "       [0, 2, 0, ..., 0, 0, 0]], dtype=uint8)"
      ]
     },
     "execution_count": 6,
     "metadata": {},
     "output_type": "execute_result"
    }
   ],
   "source": [
    "diff"
   ]
  },
  {
   "cell_type": "code",
   "execution_count": 7,
   "metadata": {},
   "outputs": [
    {
     "data": {
      "text/plain": [
       "245"
      ]
     },
     "execution_count": 7,
     "metadata": {},
     "output_type": "execute_result"
    }
   ],
   "source": [
    "diff.max()"
   ]
  },
  {
   "cell_type": "code",
   "execution_count": 8,
   "metadata": {},
   "outputs": [
    {
     "data": {
      "text/plain": [
       "(576, 768)"
      ]
     },
     "execution_count": 8,
     "metadata": {},
     "output_type": "execute_result"
    }
   ],
   "source": [
    "diff.shape"
   ]
  },
  {
   "cell_type": "code",
   "execution_count": 10,
   "metadata": {},
   "outputs": [
    {
     "data": {
      "text/plain": [
       "array([[False, False, False, ..., False, False, False],\n",
       "       [False, False, False, ..., False, False, False],\n",
       "       [False, False, False, ..., False, False, False],\n",
       "       ...,\n",
       "       [False,  True,  True, ...,  True,  True,  True],\n",
       "       [False,  True,  True, ..., False, False, False],\n",
       "       [False,  True, False, ..., False, False, False]])"
      ]
     },
     "execution_count": 10,
     "metadata": {},
     "output_type": "execute_result"
    }
   ],
   "source": [
    "diff>0"
   ]
  },
  {
   "cell_type": "code",
   "execution_count": 20,
   "metadata": {},
   "outputs": [
    {
     "data": {
      "text/plain": [
       "442368"
      ]
     },
     "execution_count": 20,
     "metadata": {},
     "output_type": "execute_result"
    }
   ],
   "source": [
    "diff.shape[0]*diff.shape[1]"
   ]
  },
  {
   "cell_type": "code",
   "execution_count": 19,
   "metadata": {},
   "outputs": [
    {
     "data": {
      "text/plain": [
       "114"
      ]
     },
     "execution_count": 19,
     "metadata": {},
     "output_type": "execute_result"
    }
   ],
   "source": [
    "(diff==255).sum()"
   ]
  },
  {
   "cell_type": "code",
   "execution_count": 23,
   "metadata": {},
   "outputs": [
    {
     "data": {
      "text/plain": [
       "0.025770399305555556"
      ]
     },
     "execution_count": 23,
     "metadata": {},
     "output_type": "execute_result"
    }
   ],
   "source": [
    "((diff==255).sum()/(diff.shape[0]*diff.shape[1]))*100"
   ]
  },
  {
   "cell_type": "code",
   "execution_count": 25,
   "metadata": {},
   "outputs": [
    {
     "ename": "TypeError",
     "evalue": "unsupported operand type(s) for /: 'tuple' and 'int'",
     "output_type": "error",
     "traceback": [
      "\u001b[1;31m------------------------------------------------------\u001b[0m",
      "\u001b[1;31mTypeError\u001b[0m            Traceback (most recent call last)",
      "\u001b[1;32m<ipython-input-25-d3115c6f5f69>\u001b[0m in \u001b[0;36m<module>\u001b[1;34m\u001b[0m\n\u001b[1;32m----> 1\u001b[1;33m \u001b[1;33m(\u001b[0m\u001b[0mdiff\u001b[0m\u001b[1;33m.\u001b[0m\u001b[0mshape\u001b[0m\u001b[1;33m)\u001b[0m\u001b[1;33m/\u001b[0m\u001b[1;36m2\u001b[0m\u001b[1;33m\u001b[0m\u001b[1;33m\u001b[0m\u001b[0m\n\u001b[0m",
      "\u001b[1;31mTypeError\u001b[0m: unsupported operand type(s) for /: 'tuple' and 'int'"
     ]
    }
   ],
   "source": [
    "(diff.shape)/2"
   ]
  },
  {
   "cell_type": "code",
   "execution_count": 32,
   "metadata": {},
   "outputs": [],
   "source": [
    "cap = cv2.VideoCapture(0)\n",
    "ret,oldframe= cap.read()\n",
    "oldframe = cv2.cvtColor(oldframe,cv2.COLOR_BGR2GRAY)\n",
    "\n",
    "tresh = 50\n",
    "counter = 0\n",
    "moved = False\n",
    "while True:\n",
    "    counter +=1\n",
    "    ret,frame= cap.read()\n",
    "    if ret :\n",
    "        cv2.imshow('diff',frame)\n",
    "        oldframe=frame\n",
    "        if cv2.waitKey(2000) ==13:\n",
    "            break\n",
    "\n",
    "#     else:\n",
    "#         break\n",
    "    \n",
    "\n",
    "cap.release()         \n",
    "cv2.destroyAllWindows()"
   ]
  },
  {
   "cell_type": "code",
   "execution_count": 36,
   "metadata": {},
   "outputs": [
    {
     "name": "stdout",
     "output_type": "stream",
     "text": [
      "13\n"
     ]
    }
   ],
   "source": [
    "cv2.imshow('diff',frame)\n",
    "kw = cv2.waitKey(2000)\n",
    "print(kw)\n",
    "cv2.destroyAllWindows()"
   ]
  },
  {
   "cell_type": "code",
   "execution_count": 38,
   "metadata": {},
   "outputs": [
    {
     "data": {
      "text/plain": [
       "['__class__',\n",
       " '__delattr__',\n",
       " '__dir__',\n",
       " '__doc__',\n",
       " '__eq__',\n",
       " '__format__',\n",
       " '__ge__',\n",
       " '__getattribute__',\n",
       " '__gt__',\n",
       " '__hash__',\n",
       " '__init__',\n",
       " '__init_subclass__',\n",
       " '__le__',\n",
       " '__lt__',\n",
       " '__ne__',\n",
       " '__new__',\n",
       " '__reduce__',\n",
       " '__reduce_ex__',\n",
       " '__repr__',\n",
       " '__setattr__',\n",
       " '__sizeof__',\n",
       " '__str__',\n",
       " '__subclasshook__',\n",
       " 'get',\n",
       " 'getBackendName',\n",
       " 'getExceptionMode',\n",
       " 'grab',\n",
       " 'isOpened',\n",
       " 'open',\n",
       " 'read',\n",
       " 'release',\n",
       " 'retrieve',\n",
       " 'set',\n",
       " 'setExceptionMode']"
      ]
     },
     "execution_count": 38,
     "metadata": {},
     "output_type": "execute_result"
    }
   ],
   "source": [
    "dir(cv2.VideoCapture)"
   ]
  },
  {
   "cell_type": "code",
   "execution_count": 41,
   "metadata": {},
   "outputs": [],
   "source": [
    "cap = cv2.VideoCapture(0)\n",
    "ret,oldframe= cap.read()\n",
    "oldframe = cv2.cvtColor(oldframe,cv2.COLOR_BGR2GRAY)\n",
    "from playsound import playsound\n",
    " \n",
    "\n",
    "tresh = 50\n",
    "counter = 0\n",
    "moved = False\n",
    "while True:\n",
    "    counter +=1\n",
    "    ret,frame= cap.read()\n",
    "    if ret and counter%5==0:\n",
    "        frame = cv2.cvtColor(frame,cv2.COLOR_BGR2GRAY)\n",
    "        diff = cv2.subtract(frame,oldframe)\n",
    "\n",
    "        diff[diff>tresh]=255\n",
    "        diff[diff<=tresh]=0\n",
    "        rate = ((diff==255).sum()/(diff.shape[0]*diff.shape[1]))*100\n",
    "    \n",
    "        if rate>5:\n",
    "            \n",
    "        \n",
    "            font = cv2.FONT_HERSHEY_SIMPLEX\n",
    "            playsound('beep-02.wav')\n",
    "            # org\n",
    "            org = (int(diff.shape[0]/2), int(diff.shape[1]/2))\n",
    "\n",
    "            # fontScale\n",
    "            fontScale = 2\n",
    "\n",
    "            \n",
    "            color = 255\n",
    "\n",
    "            # Line thickness of 2 px\n",
    "            thickness = 5\n",
    "\n",
    "            # Using cv2.putText() method\n",
    "            image = cv2.putText(diff, 'Moved', org, font, \n",
    "                               fontScale, color, thickness)\n",
    "\n",
    "\n",
    "        cv2.imshow('diff',diff)\n",
    "        oldframe=frame\n",
    "        if cv2.waitKey(int(10)) ==13:\n",
    "            break\n",
    "\n",
    "#     else:\n",
    "#         break\n",
    "    \n",
    "\n",
    "cap.release()         \n",
    "cv2.destroyAllWindows()"
   ]
  },
  {
   "cell_type": "code",
   "execution_count": null,
   "metadata": {},
   "outputs": [],
   "source": []
  }
 ],
 "metadata": {
  "kernelspec": {
   "display_name": "Python 3",
   "language": "python",
   "name": "python3"
  },
  "language_info": {
   "codemirror_mode": {
    "name": "ipython",
    "version": 3
   },
   "file_extension": ".py",
   "mimetype": "text/x-python",
   "name": "python",
   "nbconvert_exporter": "python",
   "pygments_lexer": "ipython3",
   "version": "3.8.5"
  }
 },
 "nbformat": 4,
 "nbformat_minor": 4
}
