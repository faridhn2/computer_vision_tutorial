{
 "cells": [
  {
   "cell_type": "markdown",
   "metadata": {},
   "source": [
    "   ## Line Detection - Using Hough Lines\n",
    "   \n",
    "**cv2.HoughLines**(binarized/thresholded image, 𝜌 accuracy, 𝜃 accuracy, threshold)\n",
    "- Threshold here is the minimum vote for it to be considered a line\n"
   ]
  },
  {
   "cell_type": "code",
   "execution_count": 2,
   "metadata": {},
   "outputs": [
    {
     "name": "stdout",
     "output_type": "stream",
     "text": [
      "[[[   4.           2.8797932]]\n",
      "\n",
      " [[   2.           2.8797932]]\n",
      "\n",
      " [[ 637.           1.2566371]]\n",
      "\n",
      " [[ -77.           2.8274333]]\n",
      "\n",
      " [[ 507.           1.2740903]]\n",
      "\n",
      " [[-476.           2.6179938]]\n",
      "\n",
      " [[ 505.           1.2740903]]\n",
      "\n",
      " [[-130.           2.7925267]]\n",
      "\n",
      " [[ 379.           1.2915436]]\n",
      "\n",
      " [[ 323.           1.2915436]]\n",
      "\n",
      " [[ -21.           2.86234  ]]\n",
      "\n",
      " [[ 634.           1.2566371]]\n",
      "\n",
      " [[ -24.           2.86234  ]]\n",
      "\n",
      " [[ 574.           1.2566371]]\n",
      "\n",
      " [[-387.           2.6703537]]\n",
      "\n",
      " [[  21.           2.8797932]]\n",
      "\n",
      " [[-284.           2.7052603]]\n",
      "\n",
      " [[-429.           2.6354473]]\n",
      "\n",
      " [[ -75.           2.8274333]]\n",
      "\n",
      " [[-128.           2.7925267]]\n",
      "\n",
      " [[ 381.           1.2915436]]\n",
      "\n",
      " [[-485.           2.6354473]]\n",
      "\n",
      " [[-282.           2.7052603]]\n",
      "\n",
      " [[ 121.           1.3089969]]\n",
      "\n",
      " [[ 384.           1.2740903]]\n",
      "\n",
      " [[ 437.           1.2915436]]\n",
      "\n",
      " [[ 442.           1.2740903]]\n",
      "\n",
      " [[ 218.           1.2915436]]\n",
      "\n",
      " [[ 569.           1.2740903]]\n",
      "\n",
      " [[ 214.           1.3089969]]\n",
      "\n",
      " [[ 268.           1.3089969]]\n",
      "\n",
      " [[-505.           2.6179938]]\n",
      "\n",
      " [[-230.           2.7227137]]\n",
      "\n",
      " [[-385.           2.6703537]]\n",
      "\n",
      " [[ 512.           1.2566371]]\n",
      "\n",
      " [[ 269.           1.2915436]]\n",
      "\n",
      " [[-330.           2.6703537]]\n",
      "\n",
      " [[ 166.           1.3089969]]\n",
      "\n",
      " [[-337.           2.687807 ]]\n",
      "\n",
      " [[-502.           2.6179938]]\n",
      "\n",
      " [[-482.           2.6354473]]\n",
      "\n",
      " [[-437.           2.6529005]]\n",
      "\n",
      " [[-380.           2.6529005]]\n",
      "\n",
      " [[ 386.           1.2740903]]]\n"
     ]
    }
   ],
   "source": [
    "import cv2\n",
    "import numpy as np\n",
    "\n",
    "image = cv2.imread('soduku.jpg')\n",
    "\n",
    "# Grayscale and Canny Edges extracted\n",
    "gray = cv2.cvtColor(image, cv2.COLOR_BGR2GRAY)\n",
    "edges = cv2.Canny(gray, 100, 170, apertureSize = 3)\n",
    "\n",
    "# Run HoughLines using a rho accuracy of 1 pixel\n",
    "# theta accuracy of np.pi / 180 which is 1 degree\n",
    "# Our line threshold is set to 240 (number of points on line)\n",
    "lines = cv2.HoughLines(edges, 1, np.pi / 180, 230)\n",
    "print(lines)\n",
    "# We iterate through each line and convert it to the format\n",
    "# required by cv.lines (i.e. requiring end points)\n",
    "for line in lines:\n",
    "    rho = line[0][0]\n",
    "    theta = line[0][1]\n",
    "    a = np.cos(theta)\n",
    "    b = np.sin(theta)\n",
    "    x0 = a * rho\n",
    "    y0 = b * rho\n",
    "    x1 = int(x0 + 1000 * (-b))\n",
    "    y1 = int(y0 + 1000 * (a))\n",
    "    x2 = int(x0 - 1000 * (-b))\n",
    "    y2 = int(y0 - 1000 * (a))\n",
    "    cv2.line(image, (x1, y1), (x2, y2), (255, 0, 0), 2)\n",
    "cv2.imshow('canny', edges)\n",
    "\n",
    "cv2.imshow('Hough Lines', image)\n",
    "cv2.waitKey(0)\n",
    "cv2.destroyAllWindows()"
   ]
  },
  {
   "cell_type": "markdown",
   "metadata": {},
   "source": [
    "### Probabilistic Hough Lines\n",
    "\n",
    "**cv2.HoughLinesP(binarized image, 𝜌 accuracy, 𝜃 accuracy, threshold, minimum line length, max line gap)\n",
    "\n",
    "\n"
   ]
  },
  {
   "cell_type": "code",
   "execution_count": 9,
   "metadata": {},
   "outputs": [
    {
     "name": "stdout",
     "output_type": "stream",
     "text": [
      "(979, 1, 4)\n"
     ]
    }
   ],
   "source": [
    "import cv2\n",
    "import numpy as np\n",
    "\n",
    "# Grayscale and Canny Edges extracted\n",
    "image = cv2.imread('soduku.jpg')\n",
    "gray = cv2.cvtColor(image, cv2.COLOR_BGR2GRAY)\n",
    "edges = cv2.Canny(gray, 100, 170, apertureSize = 3)\n",
    "\n",
    "# Again we use the same rho and theta accuracies\n",
    "# However, we specific a minimum vote (pts along line) of 100\n",
    "# and Min line length of 5 pixels and max gap between lines of 10 pixels\n",
    "lines = cv2.HoughLinesP(edges, 1, np.pi / 180, 50, 50, 10)\n",
    "print( lines.shape)\n",
    "# print( lines)\n",
    "\n",
    "for line in lines:\n",
    "    x1, y1, x2, y2 = line[0]\n",
    "    cv2.line(image, (x1, y1), (x2, y2),(0, 255, 0), 3)\n",
    "\n",
    "cv2.imshow('Probabilistic Hough Lines', image)\n",
    "cv2.waitKey(0)\n",
    "cv2.destroyAllWindows()"
   ]
  },
  {
   "cell_type": "code",
   "execution_count": null,
   "metadata": {
    "collapsed": true
   },
   "outputs": [],
   "source": []
  },
  {
   "cell_type": "markdown",
   "metadata": {},
   "source": [
    "\n",
    "\n"
   ]
  }
 ],
 "metadata": {
  "kernelspec": {
   "display_name": "Python 3",
   "language": "python",
   "name": "python3"
  },
  "language_info": {
   "codemirror_mode": {
    "name": "ipython",
    "version": 3
   },
   "file_extension": ".py",
   "mimetype": "text/x-python",
   "name": "python",
   "nbconvert_exporter": "python",
   "pygments_lexer": "ipython3",
   "version": "3.8.5"
  }
 },
 "nbformat": 4,
 "nbformat_minor": 1
}
