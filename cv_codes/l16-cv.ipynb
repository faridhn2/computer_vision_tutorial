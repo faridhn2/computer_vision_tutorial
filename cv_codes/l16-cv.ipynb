{
 "cells": [
  {
   "cell_type": "markdown",
   "metadata": {},
   "source": [
    "## Arithmetic Operations\n",
    "\n"
   ]
  },
  {
   "cell_type": "code",
   "execution_count": 1,
   "metadata": {},
   "outputs": [],
   "source": [
    "import cv2\n",
    "import numpy as np\n",
    "\n",
    "image = cv2.imread(r'D:\\rasa_tutorial\\CV\\29.jpg')\n",
    "\n",
    "m = np.ones(image.shape, dtype = \"uint8\") * 175 \n",
    "\n",
    "added = cv2.add(image, m)\n",
    "cv2.imshow(\"Added\", added)\n",
    "\n",
    "subtracted = cv2.subtract(image, m)\n",
    "cv2.imshow(\"Subtracted\", subtracted)\n",
    "cv2.imshow(\"Original\", image)\n",
    "\n",
    "cv2.waitKey(0)\n",
    "cv2.destroyAllWindows()"
   ]
  },
  {
   "cell_type": "code",
   "execution_count": 2,
   "metadata": {},
   "outputs": [
    {
     "data": {
      "text/plain": [
       "array([[[175, 175, 175],\n",
       "        [175, 175, 175],\n",
       "        [175, 175, 175],\n",
       "        ...,\n",
       "        [175, 175, 175],\n",
       "        [175, 175, 175],\n",
       "        [175, 175, 175]],\n",
       "\n",
       "       [[175, 175, 175],\n",
       "        [175, 175, 175],\n",
       "        [175, 175, 175],\n",
       "        ...,\n",
       "        [175, 175, 175],\n",
       "        [175, 175, 175],\n",
       "        [175, 175, 175]],\n",
       "\n",
       "       [[175, 175, 175],\n",
       "        [175, 175, 175],\n",
       "        [175, 175, 175],\n",
       "        ...,\n",
       "        [175, 175, 175],\n",
       "        [175, 175, 175],\n",
       "        [175, 175, 175]],\n",
       "\n",
       "       ...,\n",
       "\n",
       "       [[175, 175, 175],\n",
       "        [175, 175, 175],\n",
       "        [175, 175, 175],\n",
       "        ...,\n",
       "        [175, 175, 175],\n",
       "        [175, 175, 175],\n",
       "        [175, 175, 175]],\n",
       "\n",
       "       [[175, 175, 175],\n",
       "        [175, 175, 175],\n",
       "        [175, 175, 175],\n",
       "        ...,\n",
       "        [175, 175, 175],\n",
       "        [175, 175, 175],\n",
       "        [175, 175, 175]],\n",
       "\n",
       "       [[175, 175, 175],\n",
       "        [175, 175, 175],\n",
       "        [175, 175, 175],\n",
       "        ...,\n",
       "        [175, 175, 175],\n",
       "        [175, 175, 175],\n",
       "        [175, 175, 175]]], dtype=uint8)"
      ]
     },
     "execution_count": 2,
     "metadata": {},
     "output_type": "execute_result"
    }
   ],
   "source": [
    "m = np.ones(image.shape, dtype = \"uint8\") * 175 \n",
    "m"
   ]
  },
  {
   "cell_type": "code",
   "execution_count": null,
   "metadata": {},
   "outputs": [],
   "source": []
  }
 ],
 "metadata": {
  "kernelspec": {
   "display_name": "Python 3",
   "language": "python",
   "name": "python3"
  },
  "language_info": {
   "codemirror_mode": {
    "name": "ipython",
    "version": 3
   },
   "file_extension": ".py",
   "mimetype": "text/x-python",
   "name": "python",
   "nbconvert_exporter": "python",
   "pygments_lexer": "ipython3",
   "version": "3.8.5"
  }
 },
 "nbformat": 4,
 "nbformat_minor": 1
}
