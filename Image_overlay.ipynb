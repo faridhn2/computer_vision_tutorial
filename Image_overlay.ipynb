{
 "cells": [
  {
   "cell_type": "code",
   "execution_count": 24,
   "metadata": {},
   "outputs": [],
   "source": [
    "import cv2\n",
    "import numpy as np"
   ]
  },
  {
   "cell_type": "code",
   "execution_count": 86,
   "metadata": {},
   "outputs": [],
   "source": [
    "rec = np.zeros((500,700),dtype=np.uint8)\n",
    "rec = cv2.rectangle(rec,(50,50),(650,450),255,-1)\n",
    "pts = np.array([[125, 70], [125, 160], \n",
    "                [210, 200], [300, 160], \n",
    "                [300, 70], [210, 120]],\n",
    "               np.int32)\n",
    "pts = pts.reshape((-1, 1, 2))\n",
    " \n",
    "isClosed = True\n",
    " \n",
    "# Blue color in BGR\n",
    "color = 0\n",
    " \n",
    "# Line thickness of 2 px\n",
    "\n",
    " \n",
    "# Using cv2.polylines() method\n",
    "# Draw a Blue polygon with \n",
    "# thickness of 1 px\n",
    "# rec = cv2.polylines(rec, [pts], \n",
    "#                       isClosed, color, -1)\n",
    "rec = cv2.fillPoly(rec, [pts],0)"
   ]
  },
  {
   "cell_type": "code",
   "execution_count": 87,
   "metadata": {},
   "outputs": [],
   "source": [
    "cv2.imshow('rec',rec)\n",
    "cv2.waitKey()\n",
    "cv2.destroyAllWindows()"
   ]
  },
  {
   "cell_type": "code",
   "execution_count": 88,
   "metadata": {},
   "outputs": [],
   "source": [
    "mask = np.zeros((500,700,3),dtype=np.uint8)\n",
    "pts = np.array([[325, 170], [325, 260], \n",
    "                [510, 300], [500, 260], \n",
    "                [600, 170], [610, 220]],\n",
    "               np.int32)\n",
    "pts = pts.reshape((-1, 1, 2))\n",
    " \n",
    "mask = cv2.fillPoly(mask, [pts],(255,255,255))\n",
    "cv2.imshow('mask',mask)\n",
    "cv2.waitKey()\n",
    "cv2.destroyAllWindows()"
   ]
  },
  {
   "cell_type": "code",
   "execution_count": 71,
   "metadata": {},
   "outputs": [],
   "source": [
    "image1 = cv2.imread('car1.jpg')"
   ]
  },
  {
   "cell_type": "code",
   "execution_count": 72,
   "metadata": {},
   "outputs": [],
   "source": [
    "image1 = cv2.resize(image1,(700,500))"
   ]
  },
  {
   "cell_type": "code",
   "execution_count": 73,
   "metadata": {},
   "outputs": [],
   "source": [
    "cv2.imshow('image1',image1)\n",
    "cv2.waitKey()\n",
    "cv2.destroyAllWindows()"
   ]
  },
  {
   "cell_type": "code",
   "execution_count": 74,
   "metadata": {},
   "outputs": [],
   "source": [
    "filter1 = cv2.bitwise_and(mask,image1)\n",
    "cv2.imshow('filter1',filter1)\n",
    "cv2.waitKey()\n",
    "cv2.destroyAllWindows()"
   ]
  },
  {
   "cell_type": "code",
   "execution_count": 75,
   "metadata": {},
   "outputs": [],
   "source": [
    "image2 = cv2.imread('candy.jpg')\n",
    "image2 = cv2.resize(image2,(700,500))"
   ]
  },
  {
   "cell_type": "code",
   "execution_count": 76,
   "metadata": {},
   "outputs": [],
   "source": [
    "mask2 = cv2.bitwise_not(mask)"
   ]
  },
  {
   "cell_type": "code",
   "execution_count": 78,
   "metadata": {},
   "outputs": [],
   "source": [
    "filter2 = cv2.bitwise_and(mask2,image2)\n",
    "cv2.imshow('filter2',filter2)\n",
    "cv2.waitKey()\n",
    "cv2.destroyAllWindows()"
   ]
  },
  {
   "cell_type": "code",
   "execution_count": 79,
   "metadata": {},
   "outputs": [],
   "source": [
    "out = cv2.add(filter1,filter2)\n",
    "cv2.imshow('out',out)\n",
    "cv2.waitKey()\n",
    "cv2.destroyAllWindows()"
   ]
  },
  {
   "cell_type": "code",
   "execution_count": 84,
   "metadata": {},
   "outputs": [],
   "source": [
    "boolean1 =  np.array(mask2,dtype=bool)\n",
    "boolean2 =   np.array(mask2,dtype=bool) ^ True"
   ]
  },
  {
   "cell_type": "code",
   "execution_count": 85,
   "metadata": {},
   "outputs": [],
   "source": [
    "image2[boolean2] = 0\n",
    "cv2.imshow('image2',image2)\n",
    "cv2.waitKey()\n",
    "cv2.destroyAllWindows()"
   ]
  },
  {
   "cell_type": "code",
   "execution_count": null,
   "metadata": {},
   "outputs": [],
   "source": []
  }
 ],
 "metadata": {
  "kernelspec": {
   "display_name": "Python 3",
   "language": "python",
   "name": "python3"
  },
  "language_info": {
   "codemirror_mode": {
    "name": "ipython",
    "version": 3
   },
   "file_extension": ".py",
   "mimetype": "text/x-python",
   "name": "python",
   "nbconvert_exporter": "python",
   "pygments_lexer": "ipython3",
   "version": "3.8.5"
  }
 },
 "nbformat": 4,
 "nbformat_minor": 4
}
